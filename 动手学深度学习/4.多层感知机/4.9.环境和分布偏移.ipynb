{
 "cells": [
  {
   "cell_type": "markdown",
   "id": "86fff276",
   "metadata": {},
   "source": [
    "训练和测试的分布是不同的。\n",
    "\n",
    "通过新数据，使用现有网络权值，更新一下权值，而不从头开始训练。\n",
    "\n",
    "离线学习（批量学习）\n",
    "\n",
    "在线学习（一个样本就更新）\n",
    "\n",
    "控住：控制理论（PID的变体）用于自动调整超参数，以获得更好的结构和重建质量。\n",
    "\n",
    "强化学习：强调如何基于环境而行动，以获得最大化的预期利益。"
   ]
  }
 ],
 "metadata": {
  "hide_input": false,
  "kernelspec": {
   "display_name": "Python 3",
   "language": "python",
   "name": "python3"
  },
  "language_info": {
   "codemirror_mode": {
    "name": "ipython",
    "version": 3
   },
   "file_extension": ".py",
   "mimetype": "text/x-python",
   "name": "python",
   "nbconvert_exporter": "python",
   "pygments_lexer": "ipython3",
   "version": "3.8.8"
  },
  "toc": {
   "base_numbering": 1,
   "nav_menu": {},
   "number_sections": true,
   "sideBar": true,
   "skip_h1_title": false,
   "title_cell": "Table of Contents",
   "title_sidebar": "Contents",
   "toc_cell": false,
   "toc_position": {},
   "toc_section_display": true,
   "toc_window_display": false
  },
  "varInspector": {
   "cols": {
    "lenName": 16,
    "lenType": 16,
    "lenVar": 40
   },
   "kernels_config": {
    "python": {
     "delete_cmd_postfix": "",
     "delete_cmd_prefix": "del ",
     "library": "var_list.py",
     "varRefreshCmd": "print(var_dic_list())"
    },
    "r": {
     "delete_cmd_postfix": ") ",
     "delete_cmd_prefix": "rm(",
     "library": "var_list.r",
     "varRefreshCmd": "cat(var_dic_list()) "
    }
   },
   "types_to_exclude": [
    "module",
    "function",
    "builtin_function_or_method",
    "instance",
    "_Feature"
   ],
   "window_display": false
  }
 },
 "nbformat": 4,
 "nbformat_minor": 5
}
