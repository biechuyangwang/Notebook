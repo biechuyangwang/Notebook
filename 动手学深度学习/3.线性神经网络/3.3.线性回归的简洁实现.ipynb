{
 "cells": [
  {
   "cell_type": "code",
   "execution_count": 1,
   "id": "706214bd",
   "metadata": {
    "ExecuteTime": {
     "end_time": "2021-09-26T10:47:00.978729Z",
     "start_time": "2021-09-26T10:47:00.163604Z"
    }
   },
   "outputs": [],
   "source": [
    "import numpy as np\n",
    "import torch\n",
    "from torch.utils import data\n",
    "from d2l import torch as d2l\n",
    "\n",
    "\n",
    "true_w = torch.tensor([2, -3.4])\n",
    "true_b = 4.2\n",
    "features, labels = d2l.synthetic_data(true_w, true_b, 1000)"
   ]
  },
  {
   "cell_type": "code",
   "execution_count": 2,
   "id": "04490bca",
   "metadata": {
    "ExecuteTime": {
     "end_time": "2021-09-26T10:48:48.514836Z",
     "start_time": "2021-09-26T10:48:48.501515Z"
    }
   },
   "outputs": [],
   "source": [
    "def load_array(data_arrays, batch_size, is_train=True):  #@save\n",
    "    \"\"\"构造一个PyTorch数据迭代器。\"\"\"\n",
    "    dataset = data.TensorDataset(*data_arrays)\n",
    "    return data.DataLoader(dataset, batch_size, shuffle=is_train)\n",
    "\n",
    "batch_size = 10\n",
    "data_iter = load_array((features, labels), batch_size)"
   ]
  },
  {
   "cell_type": "code",
   "execution_count": 3,
   "id": "9133da19",
   "metadata": {
    "ExecuteTime": {
     "end_time": "2021-09-26T10:48:53.446190Z",
     "start_time": "2021-09-26T10:48:53.416412Z"
    }
   },
   "outputs": [
    {
     "data": {
      "text/plain": [
       "[tensor([[ 0.3551, -0.1136],\n",
       "         [ 0.3452, -0.3162],\n",
       "         [ 0.6416, -0.5268],\n",
       "         [-0.3217,  0.6528],\n",
       "         [ 0.4440, -1.6682],\n",
       "         [ 1.1215,  0.8324],\n",
       "         [ 0.6751,  1.0650],\n",
       "         [-1.8601, -0.2394],\n",
       "         [-0.8090, -0.8903],\n",
       "         [ 0.6636,  0.1151]]),\n",
       " tensor([[ 5.3150],\n",
       "         [ 5.9781],\n",
       "         [ 7.2840],\n",
       "         [ 1.3372],\n",
       "         [10.7570],\n",
       "         [ 3.6084],\n",
       "         [ 1.9161],\n",
       "         [ 1.3017],\n",
       "         [ 5.6036],\n",
       "         [ 5.1339]])]"
      ]
     },
     "execution_count": 3,
     "metadata": {},
     "output_type": "execute_result"
    }
   ],
   "source": [
    "next(iter(data_iter))"
   ]
  },
  {
   "cell_type": "code",
   "execution_count": 4,
   "id": "2326a84c",
   "metadata": {
    "ExecuteTime": {
     "end_time": "2021-09-26T10:49:03.568748Z",
     "start_time": "2021-09-26T10:49:03.561664Z"
    }
   },
   "outputs": [],
   "source": [
    "# `nn` 是神经网络的缩写\n",
    "from torch import nn\n",
    "\n",
    "net = nn.Sequential(nn.Linear(2, 1))"
   ]
  },
  {
   "cell_type": "code",
   "execution_count": 5,
   "id": "e4b1d933",
   "metadata": {
    "ExecuteTime": {
     "end_time": "2021-09-26T10:49:22.246931Z",
     "start_time": "2021-09-26T10:49:22.231124Z"
    }
   },
   "outputs": [
    {
     "data": {
      "text/plain": [
       "tensor([0.])"
      ]
     },
     "execution_count": 5,
     "metadata": {},
     "output_type": "execute_result"
    }
   ],
   "source": [
    "net[0].weight.data.normal_(0, 0.01)\n",
    "net[0].bias.data.fill_(0)"
   ]
  },
  {
   "cell_type": "code",
   "execution_count": 6,
   "id": "da66c960",
   "metadata": {
    "ExecuteTime": {
     "end_time": "2021-09-26T10:49:57.891346Z",
     "start_time": "2021-09-26T10:49:57.887280Z"
    }
   },
   "outputs": [],
   "source": [
    "loss = nn.MSELoss()"
   ]
  },
  {
   "cell_type": "code",
   "execution_count": 7,
   "id": "e7f6dec2",
   "metadata": {
    "ExecuteTime": {
     "end_time": "2021-09-26T10:50:05.909164Z",
     "start_time": "2021-09-26T10:50:05.895126Z"
    }
   },
   "outputs": [],
   "source": [
    "trainer = torch.optim.SGD(net.parameters(), lr=0.03)"
   ]
  },
  {
   "cell_type": "code",
   "execution_count": 8,
   "id": "f5fba975",
   "metadata": {
    "ExecuteTime": {
     "end_time": "2021-09-26T10:50:49.399334Z",
     "start_time": "2021-09-26T10:50:49.312044Z"
    }
   },
   "outputs": [
    {
     "name": "stdout",
     "output_type": "stream",
     "text": [
      "epoch 1, loss 0.000170\n",
      "epoch 2, loss 0.000098\n",
      "epoch 3, loss 0.000098\n"
     ]
    }
   ],
   "source": [
    "num_epochs = 3\n",
    "for epoch in range(num_epochs):\n",
    "    for X, y in data_iter:\n",
    "        l = loss(net(X) ,y)\n",
    "        trainer.zero_grad()\n",
    "        l.backward()\n",
    "        trainer.step()\n",
    "    l = loss(net(features), labels)\n",
    "    print(f'epoch {epoch + 1}, loss {l:f}')"
   ]
  },
  {
   "cell_type": "code",
   "execution_count": 9,
   "id": "2a03bc04",
   "metadata": {
    "ExecuteTime": {
     "end_time": "2021-09-26T10:53:11.784601Z",
     "start_time": "2021-09-26T10:53:11.777212Z"
    }
   },
   "outputs": [
    {
     "name": "stdout",
     "output_type": "stream",
     "text": [
      "w的估计误差： tensor([ 0.0002, -0.0002])\n",
      "b的估计误差： tensor([-0.0003])\n"
     ]
    }
   ],
   "source": [
    "w = net[0].weight.data\n",
    "print('w的估计误差：', true_w - w.reshape(true_w.shape))\n",
    "b = net[0].bias.data\n",
    "print('b的估计误差：', true_b - b)"
   ]
  },
  {
   "cell_type": "code",
   "execution_count": null,
   "id": "1789f991",
   "metadata": {},
   "outputs": [],
   "source": []
  }
 ],
 "metadata": {
  "hide_input": false,
  "kernelspec": {
   "display_name": "Python 3",
   "language": "python",
   "name": "python3"
  },
  "language_info": {
   "codemirror_mode": {
    "name": "ipython",
    "version": 3
   },
   "file_extension": ".py",
   "mimetype": "text/x-python",
   "name": "python",
   "nbconvert_exporter": "python",
   "pygments_lexer": "ipython3",
   "version": "3.8.8"
  },
  "toc": {
   "base_numbering": 1,
   "nav_menu": {},
   "number_sections": true,
   "sideBar": true,
   "skip_h1_title": false,
   "title_cell": "Table of Contents",
   "title_sidebar": "Contents",
   "toc_cell": false,
   "toc_position": {},
   "toc_section_display": true,
   "toc_window_display": false
  },
  "varInspector": {
   "cols": {
    "lenName": 16,
    "lenType": 16,
    "lenVar": 40
   },
   "kernels_config": {
    "python": {
     "delete_cmd_postfix": "",
     "delete_cmd_prefix": "del ",
     "library": "var_list.py",
     "varRefreshCmd": "print(var_dic_list())"
    },
    "r": {
     "delete_cmd_postfix": ") ",
     "delete_cmd_prefix": "rm(",
     "library": "var_list.r",
     "varRefreshCmd": "cat(var_dic_list()) "
    }
   },
   "types_to_exclude": [
    "module",
    "function",
    "builtin_function_or_method",
    "instance",
    "_Feature"
   ],
   "window_display": false
  }
 },
 "nbformat": 4,
 "nbformat_minor": 5
}
