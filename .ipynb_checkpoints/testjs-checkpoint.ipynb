{
 "cells": [
  {
   "cell_type": "code",
   "execution_count": null,
   "metadata": {},
   "outputs": [
    {
     "ename": "",
     "evalue": "",
     "output_type": "error",
     "traceback": [
      "\u001b[1;31mFailed to start the Kernel. \n",
      "\u001b[1;31mC:\\Users\\SAT\\AppData\\Roaming\\npm\\node_modules\\ijavascript\\node_modules\\node-gyp-build\\index.js:60\n",
      "\u001b[1;31m  throw new Error('No native build was found for ' + target + '\\n    loaded from: ' + dir + '\\n')\n",
      "\u001b[1;31m  ^\n",
      "\u001b[1;31m\n",
      "\u001b[1;31mError: No native build was found for platform=win32 arch=x64 runtime=electron abi=93 uv=1 libc=glibc node=16.17.1\n",
      "\u001b[1;31m    loaded from: C:\\Users\\SAT\\AppData\\Roaming\\npm\\node_modules\\ijavascript\\node_modules\\zeromq\n",
      "\u001b[1;31m\n",
      "\u001b[1;31m    at Function.load.path (C:\\Users\\SAT\\AppData\\Roaming\\npm\\node_modules\\ijavascript\\node_modules\\node-gyp-build\\index.js:60:9)\n",
      "\u001b[1;31m    at load (C:\\Users\\SAT\\AppData\\Roaming\\npm\\node_modules\\ijavascript\\node_modules\\node-gyp-build\\index.js:22:30)\n",
      "\u001b[1;31m    at Object.<anonymous> (C:\\Users\\SAT\\AppData\\Roaming\\npm\\node_modules\\ijavascript\\node_modules\\zeromq\\binding.js:1:43)\n",
      "\u001b[1;31m    at Module._compile (node:internal/modules/cjs/loader:1126:14)\n",
      "\u001b[1;31m    at Object.Module._extensions..js (node:internal/modules/cjs/loader:1180:10)\n",
      "\u001b[1;31m    at Module.load (node:internal/modules/cjs/loader:1004:32)\n",
      "\u001b[1;31m    at Function.Module._load (node:internal/modules/cjs/loader:839:12)\n",
      "\u001b[1;31m    at Module.require (node:internal/modules/cjs/loader:1028:19)\n",
      "\u001b[1;31m    at require (node:internal/modules/cjs/helpers:102:18)\n",
      "\u001b[1;31m    at Object.<anonymous> (C:\\Users\\SAT\\AppData\\Roaming\\npm\\node_modules\\ijavascript\\node_modules\\zeromq\\lib\\index.js:6:11). \n",
      "\u001b[1;31mView Jupyter <a href='command:jupyter.viewOutput'>log</a> for further details."
     ]
    }
   ],
   "source": [
    "block_objects = {}\n",
    "block_objects[3] = 6\n",
    "// console.log(block_objects)"
   ]
  }
 ],
 "metadata": {
  "kernelspec": {
   "display_name": "JavaScript (Node.js)",
   "language": "javascript",
   "name": "javascript"
  },
  "language_info": {
   "name": "javascript"
  },
  "orig_nbformat": 4
 },
 "nbformat": 4,
 "nbformat_minor": 2
}
