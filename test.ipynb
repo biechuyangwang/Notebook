{
 "cells": [
  {
   "cell_type": "code",
   "execution_count": null,
   "id": "35a75898",
   "metadata": {},
   "outputs": [],
   "source": []
  },
  {
   "cell_type": "code",
   "execution_count": null,
   "id": "3992c06d",
   "metadata": {},
   "outputs": [],
   "source": []
  },
  {
   "cell_type": "code",
   "execution_count": null,
   "id": "eb444aad",
   "metadata": {
    "ExecuteTime": {
     "end_time": "2021-09-24T19:22:39.339399Z",
     "start_time": "2021-09-24T19:22:36.959758Z"
    }
   },
   "outputs": [],
   "source": [
    "import torch"
   ]
  },
  {
   "cell_type": "code",
   "execution_count": null,
   "id": "bfc67f88",
   "metadata": {
    "ExecuteTime": {
     "end_time": "2021-09-19T23:01:13.910297Z",
     "start_time": "2021-09-19T23:01:13.901460Z"
    }
   },
   "outputs": [],
   "source": [
    "x = torch.arange(12)\n",
    "x"
   ]
  },
  {
   "cell_type": "code",
   "execution_count": null,
   "id": "bdd4dfa8",
   "metadata": {
    "ExecuteTime": {
     "end_time": "2021-09-19T23:01:35.853070Z",
     "start_time": "2021-09-19T23:01:35.834284Z"
    }
   },
   "outputs": [],
   "source": [
    "x.shape"
   ]
  },
  {
   "cell_type": "code",
   "execution_count": null,
   "id": "478b1aba",
   "metadata": {
    "ExecuteTime": {
     "end_time": "2021-09-19T23:01:45.247794Z",
     "start_time": "2021-09-19T23:01:45.242070Z"
    }
   },
   "outputs": [],
   "source": [
    "x.numel"
   ]
  },
  {
   "cell_type": "code",
   "execution_count": null,
   "id": "b3c43a0d",
   "metadata": {
    "ExecuteTime": {
     "end_time": "2021-09-19T23:02:12.710045Z",
     "start_time": "2021-09-19T23:02:12.690302Z"
    }
   },
   "outputs": [],
   "source": [
    "X = x.reshape(3, 4)\n",
    "X"
   ]
  },
  {
   "cell_type": "code",
   "execution_count": null,
   "id": "1d84f7b4",
   "metadata": {
    "ExecuteTime": {
     "end_time": "2021-09-19T23:02:29.370341Z",
     "start_time": "2021-09-19T23:02:29.361916Z"
    }
   },
   "outputs": [],
   "source": [
    "torch.zeros(2, 3, 4)"
   ]
  },
  {
   "cell_type": "code",
   "execution_count": null,
   "id": "0020f43e",
   "metadata": {
    "ExecuteTime": {
     "end_time": "2021-09-19T23:02:46.262328Z",
     "start_time": "2021-09-19T23:02:46.241533Z"
    }
   },
   "outputs": [],
   "source": [
    "torch.ones((2,3,4))"
   ]
  },
  {
   "cell_type": "code",
   "execution_count": null,
   "id": "860aeac8",
   "metadata": {
    "ExecuteTime": {
     "end_time": "2021-09-19T23:03:02.279661Z",
     "start_time": "2021-09-19T23:03:02.274289Z"
    }
   },
   "outputs": [],
   "source": [
    "torch.randn(3,4)"
   ]
  },
  {
   "cell_type": "code",
   "execution_count": null,
   "id": "9b8d1d63",
   "metadata": {
    "ExecuteTime": {
     "end_time": "2021-09-19T23:03:45.821959Z",
     "start_time": "2021-09-19T23:03:45.801988Z"
    }
   },
   "outputs": [],
   "source": [
    "torch.tensor([[2,1,4,3],[1,2,3,4],[4,3,2,1]])"
   ]
  },
  {
   "cell_type": "code",
   "execution_count": null,
   "id": "f1afe806",
   "metadata": {
    "ExecuteTime": {
     "end_time": "2021-09-19T23:05:12.681180Z",
     "start_time": "2021-09-19T23:05:12.675137Z"
    }
   },
   "outputs": [],
   "source": [
    "x=torch.tensor([1.0,2,4,8])\n",
    "y=torch.tensor([2,2,2,2])\n",
    "x+y,x-y,x*y,x/y,x**y"
   ]
  },
  {
   "cell_type": "code",
   "execution_count": null,
   "id": "ae8b356d",
   "metadata": {
    "ExecuteTime": {
     "end_time": "2021-09-19T23:06:02.922910Z",
     "start_time": "2021-09-19T23:06:02.914463Z"
    }
   },
   "outputs": [],
   "source": [
    "torch.exp(x)"
   ]
  },
  {
   "cell_type": "code",
   "execution_count": null,
   "id": "9a737a70",
   "metadata": {
    "ExecuteTime": {
     "end_time": "2021-09-19T23:08:39.511727Z",
     "start_time": "2021-09-19T23:08:39.498870Z"
    }
   },
   "outputs": [],
   "source": [
    "X = torch.arange(12,dtype=torch.float32).reshape((3,4))\n",
    "Y = torch.tensor([[2.0,1,4,3],[1,2,3,4],[4,3,2,1]])\n",
    "torch.cat((X,Y),dim=0),torch.cat((X,Y),dim=1)"
   ]
  },
  {
   "cell_type": "code",
   "execution_count": null,
   "id": "d44594f8",
   "metadata": {
    "ExecuteTime": {
     "end_time": "2021-09-19T23:10:39.982075Z",
     "start_time": "2021-09-19T23:10:39.976921Z"
    }
   },
   "outputs": [],
   "source": [
    "X == Y"
   ]
  },
  {
   "cell_type": "code",
   "execution_count": null,
   "id": "d0f9e814",
   "metadata": {
    "ExecuteTime": {
     "end_time": "2021-09-19T23:11:06.615152Z",
     "start_time": "2021-09-19T23:11:06.609904Z"
    }
   },
   "outputs": [],
   "source": [
    "X.sum()"
   ]
  },
  {
   "cell_type": "code",
   "execution_count": null,
   "id": "0048b5bf",
   "metadata": {
    "ExecuteTime": {
     "end_time": "2021-09-19T23:11:24.771305Z",
     "start_time": "2021-09-19T23:11:24.753884Z"
    }
   },
   "outputs": [],
   "source": [
    "a = torch.arange(3).reshape((3, 1))\n",
    "b = torch.arange(2).reshape((1, 2))\n",
    "a, b"
   ]
  },
  {
   "cell_type": "code",
   "execution_count": null,
   "id": "f7f3ac89",
   "metadata": {
    "ExecuteTime": {
     "end_time": "2021-09-19T23:11:34.259815Z",
     "start_time": "2021-09-19T23:11:34.251552Z"
    }
   },
   "outputs": [],
   "source": [
    "a+b"
   ]
  },
  {
   "cell_type": "code",
   "execution_count": null,
   "id": "0fe8f44e",
   "metadata": {
    "ExecuteTime": {
     "end_time": "2021-09-19T23:12:26.283605Z",
     "start_time": "2021-09-19T23:12:26.275606Z"
    }
   },
   "outputs": [],
   "source": [
    "X[-1],X[1:3]"
   ]
  },
  {
   "cell_type": "code",
   "execution_count": null,
   "id": "7ab5ec60",
   "metadata": {
    "ExecuteTime": {
     "end_time": "2021-09-19T23:13:50.665523Z",
     "start_time": "2021-09-19T23:13:50.651481Z"
    }
   },
   "outputs": [],
   "source": [
    "X[1,2]=9\n",
    "X"
   ]
  },
  {
   "cell_type": "code",
   "execution_count": null,
   "id": "cb9769e3",
   "metadata": {
    "ExecuteTime": {
     "end_time": "2021-09-19T23:14:22.113385Z",
     "start_time": "2021-09-19T23:14:22.108385Z"
    }
   },
   "outputs": [],
   "source": [
    "X[0:2,:]=12\n",
    "X"
   ]
  },
  {
   "cell_type": "code",
   "execution_count": null,
   "id": "c3c2e379",
   "metadata": {
    "ExecuteTime": {
     "end_time": "2021-09-19T23:15:18.703340Z",
     "start_time": "2021-09-19T23:15:18.684118Z"
    }
   },
   "outputs": [],
   "source": [
    "before = id(Y)\n",
    "Y=Y+X\n",
    "id(Y)==before"
   ]
  },
  {
   "cell_type": "markdown",
   "id": "a47722ad",
   "metadata": {},
   "source": [
    "**利用切片来保证原地操作**"
   ]
  },
  {
   "cell_type": "code",
   "execution_count": null,
   "id": "f84b38c8",
   "metadata": {
    "ExecuteTime": {
     "end_time": "2021-09-19T23:18:32.600084Z",
     "start_time": "2021-09-19T23:18:32.594997Z"
    }
   },
   "outputs": [],
   "source": [
    "aZ = torch.zeros_like(Y)\n",
    "print('id(Z):',id(Z))\n",
    "Z[:]=X+Y\n",
    "print('id(Z):',id(Z))"
   ]
  },
  {
   "cell_type": "code",
   "execution_count": null,
   "id": "7085d445",
   "metadata": {
    "ExecuteTime": {
     "end_time": "2021-09-19T23:19:13.430907Z",
     "start_time": "2021-09-19T23:19:13.426839Z"
    }
   },
   "outputs": [],
   "source": [
    "T = torch.zeros_like(Y)\n",
    "print('id(T):',id(T))\n",
    "T=X+Y\n",
    "print('id(T):',id(T))"
   ]
  },
  {
   "cell_type": "code",
   "execution_count": null,
   "id": "b16efdd7",
   "metadata": {
    "ExecuteTime": {
     "end_time": "2021-09-19T23:21:26.505652Z",
     "start_time": "2021-09-19T23:21:26.499082Z"
    }
   },
   "outputs": [],
   "source": [
    "before = id(X)\n",
    "X += Y\n",
    "id(X) == before"
   ]
  },
  {
   "cell_type": "code",
   "execution_count": null,
   "id": "d896512a",
   "metadata": {
    "ExecuteTime": {
     "end_time": "2021-09-19T23:21:36.645595Z",
     "start_time": "2021-09-19T23:21:36.626739Z"
    }
   },
   "outputs": [],
   "source": [
    "A = X.numpy()\n",
    "B = torch.tensor(A)\n",
    "type(A), type(B)"
   ]
  },
  {
   "cell_type": "code",
   "execution_count": null,
   "id": "343fcb5f",
   "metadata": {
    "ExecuteTime": {
     "end_time": "2021-09-19T23:23:44.408115Z",
     "start_time": "2021-09-19T23:23:44.403058Z"
    }
   },
   "outputs": [],
   "source": [
    "a = torch.tensor([3.5])\n",
    "a, a.item(), float(a), int(a)"
   ]
  },
  {
   "cell_type": "code",
   "execution_count": null,
   "id": "b3998b14",
   "metadata": {},
   "outputs": [],
   "source": [
    "import urllib3\n",
    "import json\n",
    "from urllib.parse import urlencode\n",
    "func = \"搜索歌曲\" # 功能名，支持打开歌单、播放歌单、搜索歌曲、播放歌曲\n",
    "name = \"青花瓷\" # 歌曲名\n",
    "singer = \"\" # 艺术家名\n",
    "source = \"tx\" # 源，支持kw/kg/tx/wy/mg\n",
    "func_list = {\n",
    "    \"打开歌单\":\"songlist/open\",\n",
    "    \"播放歌单\":\"songlist/play\",\n",
    "    \"搜索歌曲\":\"music/search\",\n",
    "    \"播放歌曲\":\"music/play\",\n",
    "}\n",
    "data = {\n",
    "    \"打开歌单\":{\n",
    "    \"source\":\"tx\", # 支持 kw/kg/tx/wy/mg\n",
    "    \"id\":\"\",\n",
    "    \"url\":\"\", # id和url必须传一个\n",
    "    },\n",
    "    \"播放歌单\":{\n",
    "    \"id\":\"\",\n",
    "    \"url\":\"\", # id和url必须传一个\n",
    "    \"index\":0, # 播放第几首，从0开始\n",
    "    },\n",
    "    \"搜索歌曲\":{\n",
    "    \"keywords\":name,\n",
    "    \"source\":source,\n",
    "    },\n",
    "    \"播放歌曲\":{\n",
    "    \"name\":name, # 歌曲名，必须\n",
    "    \"singer\":singer, # 艺术家，必须\n",
    "    \"source\":source, # 源，必须\n",
    "    \"songmid\":\"\", # 歌曲id，必须\n",
    "    \"img\":\"\", # 歌曲图片了解，选传\n",
    "    \"albumId\":\"\", # 歌曲专辑id，选传\n",
    "    \"interval\":\"\", # 格式化后歌曲时长，选传，例如 03:55\n",
    "    \"albumName\":\"\", # 歌曲专辑名称，宣传\n",
    "    \"types\":[{\"type\":\"flac\", \"size\":\"\",\"hash\":\"\"}], # type 128k/320k/flac/flac24bit\n",
    "    \"hash\":\"\", # kg必须\n",
    "    \"strMediaMid\":\"\", # tx必传\n",
    "    \"copyrightId\":\"\", # tx选传\n",
    "    \"lrcUrl\":\"\", # mg选传\n",
    "    },\n",
    "}\n",
    "url = f\"lxmusic://{func_list[func]}?data={json.dumps(data[func],ensure_ascii=False)}\"\n",
    "print(\"编码后的url：\",repr(url))"
   ]
  },
  {
   "cell_type": "code",
   "execution_count": null,
   "id": "c96cbbff",
   "metadata": {},
   "outputs": [],
   "source": [
    "x = input(\"输入x:\\n\")\n",
    "print(x)"
   ]
  },
  {
   "cell_type": "code",
   "execution_count": null,
   "id": "ce63b7cc",
   "metadata": {},
   "outputs": [],
   "source": [
    "name = \"小华\"\n",
    "age = 18\n",
    "score = 80.12345\n",
    "places = 2\n",
    "# 要求输出 name: '小华' , age: 18, score: 80.123\n",
    "\n",
    "print(\"name:\",name,\", age:\",age,\", score:\",score) # 拼接方式，每个拼接的分隔符默认空格\n",
    "\n",
    "print(\"name: %s, age: %d, score: %.3f\"%(name,age,score)) # %方式\n",
    "\n",
    "print(\"name: {!r:<5s}, age: {:d}, score: {:.3f}\".format(name,age,score)) # format方式,!r表示转化为Unicode及repr，<左对齐\n",
    "\n",
    "print(f\"name: {name!r:<5}, age: {age}, score: {score:.{places+1}f}\") # f-string方式,可以更灵活\n"
   ]
  },
  {
   "cell_type": "code",
   "execution_count": 19,
   "id": "10720d0b",
   "metadata": {},
   "outputs": [
    {
     "name": "stdout",
     "output_type": "stream",
     "text": [
      "name:  小华  ,age:  18  ,score:  80.12345\n",
      "name: 小华, age: 18, score: 80.123\n",
      "name: '小华' , age: 18, score: 80.123\n",
      "name: '小华' , age: 18, score: 80.123\n"
     ]
    }
   ],
   "source": [
    "name = \"小华\"\n",
    "age = 18\n",
    "score = 80.12345\n",
    "places = 2\n",
    "# 要求输出 name: '小华' , age: 18, score: 80.123\n",
    "\n",
    "# 拼接方式，每个拼接的分隔符默认空格\n",
    "print(\"name: \", name, \" ,age: \", age, \" ,score: \", score)\n",
    "\n",
    "# %方式\n",
    "print(\"name: %s, age: %d, score: %.3f\"%(name,age,score))\n",
    "\n",
    "# format方式,!r表示转化为Unicode及repr，<左对齐\n",
    "print(\"name: {!r:<5s}, age: {:d}, score: {:.3f}\".format(name,age,score))\n",
    "\n",
    "# 如果需要变更小数点后的位数\n",
    "# f-string方式,可以更灵活\n",
    "print(f\"name: {name!r:<5}, age: {age}, score: {score:.{places+1}f}\") "
   ]
  },
  {
   "cell_type": "code",
   "execution_count": null,
   "id": "4d19ce9e",
   "metadata": {},
   "outputs": [],
   "source": []
  }
 ],
 "metadata": {
  "hide_input": false,
  "kernelspec": {
   "display_name": "Python 3.8.13 ('jupyterlab')",
   "language": "python",
   "name": "python3"
  },
  "language_info": {
   "codemirror_mode": {
    "name": "ipython",
    "version": 3
   },
   "file_extension": ".py",
   "mimetype": "text/x-python",
   "name": "python",
   "nbconvert_exporter": "python",
   "pygments_lexer": "ipython3",
   "version": "3.8.13"
  },
  "toc": {
   "base_numbering": 1,
   "nav_menu": {},
   "number_sections": true,
   "sideBar": true,
   "skip_h1_title": false,
   "title_cell": "Table of Contents",
   "title_sidebar": "Contents",
   "toc_cell": false,
   "toc_position": {},
   "toc_section_display": true,
   "toc_window_display": false
  },
  "varInspector": {
   "cols": {
    "lenName": 16,
    "lenType": 16,
    "lenVar": 40
   },
   "kernels_config": {
    "python": {
     "delete_cmd_postfix": "",
     "delete_cmd_prefix": "del ",
     "library": "var_list.py",
     "varRefreshCmd": "print(var_dic_list())"
    },
    "r": {
     "delete_cmd_postfix": ") ",
     "delete_cmd_prefix": "rm(",
     "library": "var_list.r",
     "varRefreshCmd": "cat(var_dic_list()) "
    }
   },
   "types_to_exclude": [
    "module",
    "function",
    "builtin_function_or_method",
    "instance",
    "_Feature"
   ],
   "window_display": false
  },
  "vscode": {
   "interpreter": {
    "hash": "680acffb1b7dda0f89f86579d82e4a5b51bf963daab96489c3ef982a7727b824"
   }
  }
 },
 "nbformat": 4,
 "nbformat_minor": 5
}
