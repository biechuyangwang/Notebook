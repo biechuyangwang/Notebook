{
 "cells": [
  {
   "cell_type": "code",
   "execution_count": 1,
   "metadata": {},
   "outputs": [
    {
     "name": "stdout",
     "output_type": "stream",
     "text": [
      "[11, 68, 70, 86, 93]\n"
     ]
    }
   ],
   "source": [
    "# 列表的内置sort方法，默认升序\n",
    "numbers = [93, 86, 11, 68, 70]\n",
    "numbers.sort()\n",
    "print(numbers)"
   ]
  },
  {
   "cell_type": "code",
   "execution_count": 6,
   "metadata": {},
   "outputs": [
    {
     "name": "stderr",
     "output_type": "stream",
     "text": [
      "ERROR:root:Expected\n",
      "Traceback (most recent call last):\n",
      "  File \"C:\\Users\\SAT\\AppData\\Local\\Temp\\ipykernel_27780\\3548603610.py\", line 19, in <module>\n",
      "    tools.sort()\n",
      "TypeError: '<' not supported between instances of 'Tool' and 'Tool'\n"
     ]
    }
   ],
   "source": [
    "# 一般对象构成的列表无法使用sort方法进行排序\n",
    "class Tool:\n",
    "    def __init__(self, name, weight):\n",
    "        self.name = name\n",
    "        self.weight = weight\n",
    "\n",
    "    def __repr__(self): # 重载__repr__来格式化输出对象\n",
    "        return f'Tool({self.name!r}, {self.weight})' # f-string中的!r可以使字符串输出带引号的原始格式\n",
    "\n",
    "tools = [\n",
    "    Tool('level', 3.5),\n",
    "    Tool('hammer', 1.25),\n",
    "    Tool('screwdriver', 0.5),\n",
    "    Tool('chisel', 0.25),\n",
    "]\n",
    "\n",
    "import logging\n",
    "try:\n",
    "    tools.sort()\n",
    "except:\n",
    "    logging.exception('Expected')\n",
    "else:\n",
    "    assert False"
   ]
  },
  {
   "cell_type": "code",
   "execution_count": 9,
   "metadata": {},
   "outputs": [
    {
     "name": "stdout",
     "output_type": "stream",
     "text": [
      "Unsorted: [Tool('chisel', 0.25), Tool('screwdriver', 0.5), Tool('hammer', 1.25), Tool('level', 3.5)]\n",
      "\n",
      "Sorted:   [Tool('chisel', 0.25), Tool('hammer', 1.25), Tool('level', 3.5), Tool('screwdriver', 0.5)]\n",
      "\n",
      "By weight: [Tool('chisel', 0.25), Tool('screwdriver', 0.5), Tool('hammer', 1.25), Tool('level', 3.5)]\n"
     ]
    }
   ],
   "source": [
    "# 根据关键字key来排序，key默认是对象本身，需要函数来转化为可比较的值\n",
    "print('Unsorted:', repr(tools))\n",
    "tools.sort(key=lambda x: x.name)\n",
    "print('\\nSorted:  ', tools)\n",
    "\n",
    "tools.sort(key=lambda x: x.weight)\n",
    "print('\\nBy weight:', tools)"
   ]
  },
  {
   "cell_type": "code",
   "execution_count": 10,
   "metadata": {},
   "outputs": [
    {
     "name": "stdout",
     "output_type": "stream",
     "text": [
      "Case sensitive:   ['New York', 'Paris', 'home', 'work']\n",
      "Case insensitive: ['home', 'New York', 'Paris', 'work']\n"
     ]
    }
   ],
   "source": [
    "# key可以是对象的属性，也可以是有效的表达式\n",
    "places = ['home', 'work', 'New York', 'Paris']\n",
    "places.sort()\n",
    "print('Case sensitive:  ', places)\n",
    "places.sort(key=lambda x: x.lower()) # 指定排序规则，不改变原有对象\n",
    "print('Case insensitive:', places)"
   ]
  },
  {
   "cell_type": "code",
   "execution_count": 12,
   "metadata": {},
   "outputs": [],
   "source": [
    "# 复杂的排序规则(先比较权重，再比较名字)\n",
    "power_tools = [\n",
    "    Tool('drill', 4),\n",
    "    Tool('circular saw', 5),\n",
    "    Tool('jackhammer', 40),\n",
    "    Tool('sander', 4),\n",
    "]\n",
    "\n",
    "saw = (5, 'circular saw')\n",
    "jackhammer = (40, 'jackhammer')\n",
    "assert not (jackhammer < saw)  # Matches expectations\n",
    "\n",
    "# 元组可以实现依次比较，达到排序的目的\n",
    "drill = (4, 'drill')\n",
    "sander = (4, 'sander')\n",
    "assert drill[0] == sander[0]  # Same weight\n",
    "assert drill[1] < sander[1]   # Alphabetically less\n",
    "assert drill < sander         # Thus, drill comes first"
   ]
  },
  {
   "cell_type": "code",
   "execution_count": 13,
   "metadata": {},
   "outputs": [
    {
     "name": "stdout",
     "output_type": "stream",
     "text": [
      "[Tool('drill', 4), Tool('sander', 4), Tool('circular saw', 5), Tool('jackhammer', 40)]\n"
     ]
    }
   ],
   "source": [
    "# 构造元组来实现排序，权重升序，名字也升序\n",
    "power_tools.sort(key=lambda x: (x.weight, x.name))\n",
    "print(power_tools)"
   ]
  },
  {
   "cell_type": "code",
   "execution_count": 14,
   "metadata": {},
   "outputs": [
    {
     "name": "stdout",
     "output_type": "stream",
     "text": [
      "[Tool('jackhammer', 40), Tool('circular saw', 5), Tool('sander', 4), Tool('drill', 4)]\n"
     ]
    }
   ],
   "source": [
    "# 都降序\n",
    "power_tools.sort(key=lambda x: (x.weight, x.name), reverse=True)\n",
    "print(power_tools)"
   ]
  },
  {
   "cell_type": "code",
   "execution_count": 15,
   "metadata": {},
   "outputs": [
    {
     "name": "stdout",
     "output_type": "stream",
     "text": [
      "[Tool('jackhammer', 40), Tool('circular saw', 5), Tool('drill', 4), Tool('sander', 4)]\n"
     ]
    }
   ],
   "source": [
    "# 权重降序，名字升序\n",
    "power_tools.sort(key=lambda x: (-x.weight, x.name))\n",
    "print(power_tools)"
   ]
  },
  {
   "cell_type": "code",
   "execution_count": 16,
   "metadata": {},
   "outputs": [
    {
     "name": "stderr",
     "output_type": "stream",
     "text": [
      "ERROR:root:Expected\n",
      "Traceback (most recent call last):\n",
      "  File \"C:\\Users\\SAT\\AppData\\Local\\Temp\\ipykernel_27780\\817320391.py\", line 3, in <module>\n",
      "    power_tools.sort(key=lambda x: (x.weight, -x.name),\n",
      "  File \"C:\\Users\\SAT\\AppData\\Local\\Temp\\ipykernel_27780\\817320391.py\", line 3, in <lambda>\n",
      "    power_tools.sort(key=lambda x: (x.weight, -x.name),\n",
      "TypeError: bad operand type for unary -: 'str'\n"
     ]
    }
   ],
   "source": [
    "# 非数值没法取负数\n",
    "try:\n",
    "    power_tools.sort(key=lambda x: (x.weight, -x.name),\n",
    "                     reverse=True)\n",
    "except:\n",
    "    logging.exception('Expected')\n",
    "else:\n",
    "    assert False"
   ]
  },
  {
   "cell_type": "code",
   "execution_count": 17,
   "metadata": {},
   "outputs": [
    {
     "name": "stdout",
     "output_type": "stream",
     "text": [
      "[Tool('jackhammer', 40), Tool('circular saw', 5), Tool('drill', 4), Tool('sander', 4)]\n"
     ]
    }
   ],
   "source": [
    "# 使用两轮排序来实现，和基数排序一样，次要目标先排，重要目标后排，保证稳定排序\n",
    "# 当然还是尽量使用一次排序的\n",
    "power_tools.sort(key=lambda x: x.name)   # Name ascending\n",
    "\n",
    "power_tools.sort(key=lambda x: x.weight, # Weight descending\n",
    "                 reverse=True)\n",
    "\n",
    "print(power_tools)"
   ]
  }
 ],
 "metadata": {
  "kernelspec": {
   "display_name": "Python 3.8.13 ('jupyterlab')",
   "language": "python",
   "name": "python3"
  },
  "language_info": {
   "codemirror_mode": {
    "name": "ipython",
    "version": 3
   },
   "file_extension": ".py",
   "mimetype": "text/x-python",
   "name": "python",
   "nbconvert_exporter": "python",
   "pygments_lexer": "ipython3",
   "version": "3.8.13"
  },
  "orig_nbformat": 4,
  "vscode": {
   "interpreter": {
    "hash": "680acffb1b7dda0f89f86579d82e4a5b51bf963daab96489c3ef982a7727b824"
   }
  }
 },
 "nbformat": 4,
 "nbformat_minor": 2
}
