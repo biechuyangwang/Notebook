{
 "cells": [
  {
   "cell_type": "markdown",
   "metadata": {},
   "source": [
    "# 推导与生成\n",
    "## 1 列表推导\n",
    "- 列表推导式代码简洁（适用于没有太多嵌套的简单结构），用列表推导式取代map与filter\n",
    "- 控制列表推导的逻辑表达式不要超过两个(列表推导不要嵌套超过两层)，否则使用for更直观\n",
    "- 赋值表达式消除推导中的重复代码（其实赋值表达式作用就是用在赋值+if的场景下的）\n",
    "注意：[]是列表推导式，()是生成器推导式，不是set\n",
    "- 不要让函数直接返回列表，应该让它逐个生成\n",
    "## 2 迭代器\n",
    "- 谨慎的去迭代函数收到的参数\n",
    "    - 迭代器或生成器在抛出StopIteration时，不会在第二次迭代，也不会报错，容易查不到错误来源\n",
    "    - 使用类包裹，并实现__iter__方法去避免iter被多次迭代\n",
    "\n",
    "## 3 生成器\n",
    "- 生成器改写数据量大的列表推导\n",
    "使用(),即生成式推导式来改写数据量大的列表推导式，特别是中间计算结果\n",
    "- yield from连接多个生成器（生成器的传递，yield from比传统的for来传递快）\n",
    "后面会发现async/await更好用，哈哈哈\n",
    "- send可以向生成器发送数据，但是别这么做，不如用迭代器向生成器发数据，更不如使用async函数\n",
    "- 不要通过throw变换生成器的状态，也就是不要通过throw来传达信息\n",
    "- 考虑使用itertools来拼装迭代器与生成器\n",
    "内置还是香的\n",
    "- "
   ]
  },
  {
   "cell_type": "code",
   "execution_count": 5,
   "metadata": {},
   "outputs": [
    {
     "name": "stdout",
     "output_type": "stream",
     "text": [
      "[1, 4, 9, 16, 25, 36, 49, 64, 81, 100]\n",
      "[1, 4, 9, 16, 25, 36, 49, 64, 81, 100]\n",
      "[4, 16, 36, 64, 100]\n"
     ]
    }
   ],
   "source": [
    "# 用列表推导式取代map与filter\n",
    "\n",
    "# 原始for/in结构\n",
    "a = [1, 2, 3, 4, 5, 6, 7, 8, 9, 10]\n",
    "squares = []\n",
    "for x in a:\n",
    "    squares.append(x**2)\n",
    "print(squares)\n",
    "\n",
    "# 使用列表推导，更简洁了\n",
    "squares = [x**2 for x in a]  # List comprehension\n",
    "print(squares)\n",
    "\n",
    "# map配合lambda\n",
    "alt = map(lambda x: x ** 2, a)\n",
    "# print(list(alt))\n",
    "assert list(alt) == squares, f'{alt} {squares}'"
   ]
  },
  {
   "cell_type": "code",
   "execution_count": 6,
   "metadata": {},
   "outputs": [
    {
     "name": "stdout",
     "output_type": "stream",
     "text": [
      "[4, 16, 36, 64, 100]\n",
      "{2: 4, 4: 16, 6: 36, 8: 64, 10: 100}\n",
      "{216, 729, 27}\n"
     ]
    }
   ],
   "source": [
    "# 可以对比一下，列表推导式最简洁\n",
    "even_squares = [x**2 for x in a if x % 2 == 0]\n",
    "print(even_squares)\n",
    "\n",
    "alt = map(lambda x: x**2, filter(lambda x: x % 2 == 0, a))\n",
    "assert even_squares == list(alt)\n",
    "\n",
    "even_squares_dict = {x: x**2 for x in a if x % 2 == 0}\n",
    "threes_cubed_set = {x**3 for x in a if x % 3 == 0}\n",
    "print(even_squares_dict)\n",
    "print(threes_cubed_set)\n",
    "\n",
    "alt_dict = dict(map(lambda x: (x, x**2),\n",
    "\t\t\t\tfilter(lambda x: x % 2 == 0, a)))\n",
    "alt_set = set(map(lambda x: x**3,\n",
    "\t          filter(lambda x: x % 3 == 0, a)))\n",
    "assert even_squares_dict == alt_dict\n",
    "assert threes_cubed_set == alt_set"
   ]
  },
  {
   "cell_type": "code",
   "execution_count": 10,
   "metadata": {},
   "outputs": [
    {
     "name": "stdout",
     "output_type": "stream",
     "text": [
      "[1, 2, 3, 4, 5, 6, 7, 8, 9]\n",
      "[[1, 4, 9], [16, 25, 36], [49, 64, 81]]\n",
      "[1, 2, 3, 4, 5, 6, 7, 8, 9, 10, 11, 12]\n",
      "[1, 2, 3, 4, 5, 6, 7, 8, 9, 10, 11, 12]\n"
     ]
    }
   ],
   "source": [
    "# 复杂列表推导，不如使用for简洁\n",
    "matrix = [[1, 2, 3], [4, 5, 6], [7, 8, 9]]\n",
    "flat = [x for row in matrix for x in row]\n",
    "print(flat)\n",
    "\n",
    "squared = [[x**2 for x in row] for row in matrix]\n",
    "print(squared)\n",
    "\n",
    "# 当列表越来越复杂，推导的逻辑越来越复杂，建议放弃使用列表推导，因为代码可读性太差\n",
    "my_lists = [\n",
    "    [[1, 2, 3], [4, 5, 6]],\n",
    "    [[7, 8, 9], [10, 11, 12]],\n",
    "]\n",
    "flat = [x for sublist1 in my_lists\n",
    "        for sublist2 in sublist1\n",
    "        for x in sublist2]\n",
    "print(flat)\n",
    "\n",
    "# 不如for来的直观\n",
    "flat = []\n",
    "for sublist1 in my_lists:\n",
    "    for sublist2 in sublist1:\n",
    "        flat.extend(sublist2)\n",
    "print(flat)"
   ]
  },
  {
   "cell_type": "code",
   "execution_count": 11,
   "metadata": {},
   "outputs": [
    {
     "name": "stdout",
     "output_type": "stream",
     "text": [
      "[6, 8, 10]\n",
      "[6, 8, 10]\n",
      "[[6], [9]]\n"
     ]
    }
   ],
   "source": [
    "# 列表中两个if可以并列，和用and连接效果一样，但是最好不要省略\n",
    "a = [1, 2, 3, 4, 5, 6, 7, 8, 9, 10]\n",
    "b = [x for x in a if x > 4 if x % 2 == 0]\n",
    "c = [x for x in a if x > 4 and x % 2 == 0]\n",
    "print(b)\n",
    "print(c)\n",
    "assert b and c\n",
    "assert b == c\n",
    "\n",
    "# 列表推导中每个for可以带各自的if\n",
    "matrix = [[1, 2, 3], [4, 5, 6], [7, 8, 9]]\n",
    "filtered = [[x for x in row if x % 3 == 0]\n",
    "            for row in matrix if sum(row) >= 10]\n",
    "print(filtered)"
   ]
  },
  {
   "cell_type": "code",
   "execution_count": 18,
   "metadata": {},
   "outputs": [
    {
     "name": "stdout",
     "output_type": "stream",
     "text": [
      "{'screws': 4, 'wingnuts': 1}\n",
      "{'screws': 4, 'wingnuts': 1}\n"
     ]
    }
   ],
   "source": [
    "# 赋值表达式消除推导中的重复代码\n",
    "stock = {\n",
    "    'nails': 125,\n",
    "    'screws': 35,\n",
    "    'wingnuts': 8,\n",
    "    'washers': 24,\n",
    "}\n",
    "\n",
    "order = ['screws', 'wingnuts', 'clips']\n",
    "\n",
    "def get_batches(count, size):\n",
    "    return count // size\n",
    "\n",
    "# 常规写法\n",
    "result = {}\n",
    "for name in order:\n",
    "  count = stock.get(name, 0)\n",
    "  batches = get_batches(count, 8)\n",
    "  if batches:\n",
    "    result[name] = batches\n",
    "\n",
    "print(result)\n",
    "\n",
    "# 使用带赋值表达式的列表推导（列表推导不光能推导列表，字典、集合都可以）\n",
    "# 但是还是不够简洁，get_batches算了两次\n",
    "found = {name: get_batches(stock.get(name, 0), 8)\n",
    "         for name in order\n",
    "         if get_batches(stock.get(name, 0), 8)}\n",
    "print(found)\n",
    "\n",
    "# 在if中定义一个变量类接收get_batches函数的返回值\n",
    "found = {name: batches for name in order\n",
    "         if (batches := get_batches(stock.get(name, 0), 8))}\n",
    "assert found == {'screws': 4, 'wingnuts': 1}, found"
   ]
  },
  {
   "cell_type": "code",
   "execution_count": 17,
   "metadata": {},
   "outputs": [
    {
     "ename": "AssertionError",
     "evalue": "",
     "output_type": "error",
     "traceback": [
      "\u001b[1;31m---------------------------------------------------------------------------\u001b[0m",
      "\u001b[1;31mAssertionError\u001b[0m                            Traceback (most recent call last)",
      "\u001b[1;32m~\\AppData\\Local\\Temp\\ipykernel_19684\\669279765.py\u001b[0m in \u001b[0;36m<module>\u001b[1;34m\u001b[0m\n\u001b[0;32m      7\u001b[0m     \u001b[0mlogging\u001b[0m\u001b[1;33m.\u001b[0m\u001b[0mexception\u001b[0m\u001b[1;33m(\u001b[0m\u001b[1;34m'Expected'\u001b[0m\u001b[1;33m)\u001b[0m\u001b[1;33m\u001b[0m\u001b[1;33m\u001b[0m\u001b[0m\n\u001b[0;32m      8\u001b[0m \u001b[1;32melse\u001b[0m\u001b[1;33m:\u001b[0m\u001b[1;33m\u001b[0m\u001b[1;33m\u001b[0m\u001b[0m\n\u001b[1;32m----> 9\u001b[1;33m     \u001b[1;32massert\u001b[0m \u001b[1;32mFalse\u001b[0m\u001b[1;33m\u001b[0m\u001b[1;33m\u001b[0m\u001b[0m\n\u001b[0m\u001b[0;32m     10\u001b[0m \u001b[1;33m\u001b[0m\u001b[0m\n\u001b[0;32m     11\u001b[0m result = {name: tenth for name, count in stock.items()\n",
      "\u001b[1;31mAssertionError\u001b[0m: "
     ]
    }
   ],
   "source": [
    "# 一个错误示范，新定义的接收函数返回值的值需要谨慎考虑逻辑先后关系\n",
    "import logging\n",
    "try:\n",
    "    result = {name: (tenth := count // 10)\n",
    "              for name, count in stock.items() if tenth > 0}\n",
    "except:\n",
    "    logging.exception('Expected')\n",
    "else:\n",
    "    assert False"
   ]
  },
  {
   "cell_type": "code",
   "execution_count": 22,
   "metadata": {},
   "outputs": [
    {
     "name": "stdout",
     "output_type": "stream",
     "text": [
      "{'nails': 12, 'screws': 3, 'washers': 2}\n",
      "Last item of [62, 17, 4, 12] is 12\n",
      "Last item of [125, 35, 8, 24] is 24\n",
      "('screws', 4)\n",
      "('wingnuts', 1)\n"
     ]
    }
   ],
   "source": [
    "# 将赋值表达式写在先计算的条件语句中\n",
    "result = {name: tenth for name, count in stock.items()\n",
    "          if (tenth := count // 10) > 0}\n",
    "print(result)\n",
    "\n",
    "# 如果推导逻辑不带条件，而表示新值又使用了赋值表达式，则赋值表达式左边的值会泄露到推导式外面的作用域里\n",
    "# 所以建议赋值表达式只用在推导式的条件中\n",
    "half = [(last := count // 2) for count in stock.values()]\n",
    "print(f'Last item of {half} is {last}')\n",
    "\n",
    "# 普通的for循环也是一样会泄露\n",
    "for count in stock.values():  # Leaks loop variable\n",
    "    pass\n",
    "print(f'Last item of {list(stock.values())} is {count}')\n",
    "\n",
    "# 赋值表达式也可用来写生成器表达式，[]是列表推导式，()是生成器推导式\n",
    "found = ((name, batches) for name in order\n",
    "         if (batches := get_batches(stock.get(name, 0), 8)))\n",
    "print(next(found))\n",
    "print(next(found))"
   ]
  },
  {
   "cell_type": "code",
   "execution_count": 35,
   "metadata": {},
   "outputs": [
    {
     "data": {
      "text/plain": [
       "<function __main__.close_open_files()>"
      ]
     },
     "execution_count": 35,
     "metadata": {},
     "output_type": "execute_result"
    }
   ],
   "source": [
    "# 避免永久生成临时文件，运行完直接清理临时文件\n",
    "# Write all output to a temporary directory\n",
    "import atexit\n",
    "import gc\n",
    "import io\n",
    "import os\n",
    "import tempfile\n",
    "\n",
    "TEST_DIR = tempfile.TemporaryDirectory()\n",
    "atexit.register(TEST_DIR.cleanup)\n",
    "\n",
    "# Make sure Windows processes exit cleanly\n",
    "OLD_CWD = os.getcwd()\n",
    "atexit.register(lambda: os.chdir(OLD_CWD))\n",
    "os.chdir(TEST_DIR.name)\n",
    "\n",
    "def close_open_files():\n",
    "    everything = gc.get_objects()\n",
    "    for obj in everything:\n",
    "        if isinstance(obj, io.IOBase):\n",
    "            obj.close()\n",
    "\n",
    "atexit.register(close_open_files)"
   ]
  },
  {
   "cell_type": "code",
   "execution_count": 26,
   "metadata": {},
   "outputs": [
    {
     "name": "stdout",
     "output_type": "stream",
     "text": [
      "[0, 5, 11, 15, 21, 27, 31, 35, 43, 51]\n",
      "0\n",
      "5\n",
      "[0, 5, 11, 15, 21, 27, 31, 35, 43, 51]\n"
     ]
    }
   ],
   "source": [
    "# 函数直接返回结果列表\n",
    "# 有两个缺点\n",
    "# - 需要内部关注list细节\n",
    "# - 如果结果很多，或者是长度任意的输入（流式输入），则内存容易耗尽\n",
    "def index_words(text):\n",
    "    result = []\n",
    "    if text:\n",
    "        result.append(0)\n",
    "    for index, letter in enumerate(text):\n",
    "        if letter == ' ':\n",
    "            result.append(index + 1)\n",
    "    return result\n",
    "\n",
    "address = 'Four score and seven years ago...'\n",
    "address = 'Four score and seven years ago our fathers brought forth on this continent a new nation, conceived in liberty, and dedicated to the proposition that all men are created equal.'\n",
    "result = index_words(address)\n",
    "print(result[:10])\n",
    "\n",
    "# 使用yield生成器按需生成\n",
    "def index_words_iter(text):\n",
    "    if text:\n",
    "        yield 0\n",
    "    for index, letter in enumerate(text):\n",
    "        if letter == ' ':\n",
    "            yield index + 1\n",
    "\n",
    "it = index_words_iter(address)\n",
    "print(next(it))\n",
    "print(next(it))\n",
    "\n",
    "\n",
    "# 解决问题二：不用内次都读锁数据，也不用每次计算所有输出\n",
    "def index_file(handle):\n",
    "    offset = 0\n",
    "    for line in handle:\n",
    "        if line:\n",
    "            yield offset\n",
    "        for letter in line:\n",
    "            offset += 1\n",
    "            if letter == ' ':\n",
    "                yield offset\n",
    "\n",
    "address_lines = \"\"\"Four score and seven years\n",
    "ago our fathers brought forth on this\n",
    "continent a new nation, conceived in liberty,\n",
    "and dedicated to the proposition that all men\n",
    "are created equal.\"\"\"\n",
    "\n",
    "with open('address.txt', 'w') as f:\n",
    "    f.write(address_lines)\n",
    "\n",
    "import itertools\n",
    "with open('address.txt', 'r') as f:\n",
    "    it = index_file(f)\n",
    "    results = itertools.islice(it, 0, 10)\n",
    "    print(list(results))"
   ]
  },
  {
   "cell_type": "code",
   "execution_count": 33,
   "metadata": {},
   "outputs": [
    {
     "name": "stdout",
     "output_type": "stream",
     "text": [
      "[11.538461538461538, 26.923076923076923, 61.53846153846154]\n",
      "[]\n",
      "[11.538461538461538, 26.923076923076923, 61.53846153846154]\n"
     ]
    }
   ],
   "source": [
    "# 迭代收到的参数要谨慎\n",
    "\n",
    "def normalize(numbers):\n",
    "    total = sum(numbers)\n",
    "    result = []\n",
    "    for value in numbers:\n",
    "        percent = 100 * value / total\n",
    "        result.append(percent)\n",
    "    return result\n",
    "\n",
    "# 正常列表没有问题\n",
    "visits = [15, 35, 80]\n",
    "percentages = normalize(visits)\n",
    "print(percentages)\n",
    "assert sum(percentages) == 100.0\n",
    "\n",
    "path = 'my_numbers.txt'\n",
    "with open(path, 'w') as f:\n",
    "    for i in (15, 35, 80):\n",
    "        f.write('%d\\n' % i)\n",
    "\n",
    "def read_visits(data_path):\n",
    "    with open(data_path) as f:\n",
    "        for line in f:\n",
    "            yield int(line)\n",
    "\n",
    "# 读进来的数据是迭代器，用了sum会导致迭代器迭代完毕，后一个for也是迭代过程，不起作用了\n",
    "it = read_visits('my_numbers.txt')\n",
    "percentages = normalize(it)\n",
    "print(percentages) # 返回[]，因为\n",
    "\n",
    "# 使用类包装一下，重写__iter__方法\n",
    "class ReadVisits:\n",
    "    def __init__(self, data_path):\n",
    "        self.data_path = data_path\n",
    "\n",
    "    def __iter__(self):\n",
    "        with open(self.data_path) as f:\n",
    "            for line in f:\n",
    "                yield int(line)\n",
    "\n",
    "visits = ReadVisits(path)\n",
    "percentages = normalize(visits)\n",
    "print(percentages)\n",
    "assert sum(percentages) == 100.0\n",
    "\n",
    "# 调用的函数最好检查一下是不是普通的迭代器，如果是则抛异常\n",
    "# 利用特性：普通迭代器使用iter包裹，会返回本身\n",
    "def normalize_defensive(numbers):\n",
    "    if iter(numbers) is numbers:  # An iterator -- bad!\n",
    "        raise TypeError('Must supply a container')\n",
    "    total = sum(numbers)\n",
    "    result = []\n",
    "    for value in numbers:\n",
    "        percent = 100 * value / total\n",
    "        result.append(percent)\n",
    "    return result\n",
    "\n",
    "visits = [15, 35, 80]\n",
    "normalize_defensive(visits)  # No error\n",
    "\n",
    "it = iter(visits)\n",
    "try:\n",
    "    normalize_defensive(it)\n",
    "except TypeError:\n",
    "    pass\n",
    "else:\n",
    "    assert False\n",
    "\n",
    "# 使用collections.abc中的Iterator也可以实现上面的功能\n",
    "from collections.abc import Iterator \n",
    "\n",
    "def normalize_defensive(numbers):\n",
    "    if isinstance(numbers, Iterator):  # Another way to check\n",
    "        raise TypeError('Must supply a container')\n",
    "    total = sum(numbers)\n",
    "    result = []\n",
    "    for value in numbers:\n",
    "        percent = 100 * value / total\n",
    "        result.append(percent)\n",
    "    return result\n",
    "\n",
    "visits = [15, 35, 80]\n",
    "normalize_defensive(visits)  # No error\n",
    "\n",
    "it = iter(visits)\n",
    "try:\n",
    "    normalize_defensive(it)\n",
    "except TypeError:\n",
    "    pass\n",
    "else:\n",
    "    assert False\n",
    "\n",
    "visits = [15, 35, 80]\n",
    "percentages = normalize_defensive(visits)\n",
    "assert sum(percentages) == 100.0\n",
    "\n",
    "visits = ReadVisits(path)\n",
    "percentages = normalize_defensive(visits)\n",
    "assert sum(percentages) == 100.0"
   ]
  },
  {
   "cell_type": "code",
   "execution_count": 34,
   "metadata": {},
   "outputs": [
    {
     "name": "stderr",
     "output_type": "stream",
     "text": [
      "ERROR:root:Expected\n",
      "Traceback (most recent call last):\n",
      "  File \"C:\\Users\\SAT\\AppData\\Local\\Temp\\ipykernel_19684\\2871425507.py\", line 5, in <module>\n",
      "    normalize_defensive(it)\n",
      "  File \"C:\\Users\\SAT\\AppData\\Local\\Temp\\ipykernel_19684\\3947129963.py\", line 75, in normalize_defensive\n",
      "    raise TypeError('Must supply a container')\n",
      "TypeError: Must supply a container\n"
     ]
    }
   ],
   "source": [
    "# 普通迭代器就会抛异常 \n",
    "try:\n",
    "    visits = [15, 35, 80]\n",
    "    it = iter(visits)\n",
    "    normalize_defensive(it)\n",
    "except:\n",
    "    logging.exception('Expected')\n",
    "else:\n",
    "    assert False"
   ]
  },
  {
   "cell_type": "code",
   "execution_count": 36,
   "metadata": {},
   "outputs": [
    {
     "name": "stdout",
     "output_type": "stream",
     "text": [
      "[60, 37, 20, 18, 88, 87, 47, 76, 13, 42]\n",
      "<generator object <genexpr> at 0x000002580EB20BA0>\n",
      "60\n",
      "37\n",
      "(20, 4.47213595499958)\n"
     ]
    }
   ],
   "source": [
    "# 生成器改写数据量大的列表推导\n",
    "import random\n",
    "\n",
    "with open('my_file.txt', 'w') as f:\n",
    "    for _ in range(10):\n",
    "        f.write('a' * random.randint(0, 100))\n",
    "        f.write('\\n')\n",
    "\n",
    "value = [len(x) for x in open('my_file.txt')]\n",
    "print(value)\n",
    "\n",
    "it = (len(x) for x in open('my_file.txt'))\n",
    "print(it)\n",
    "print(next(it))\n",
    "print(next(it))\n",
    "\n",
    "# 推荐使用，特别是中间变量\n",
    "roots = ((x, x**0.5) for x in it) # 生成器推导式\n",
    "print(next(roots))"
   ]
  },
  {
   "cell_type": "code",
   "execution_count": 38,
   "metadata": {},
   "outputs": [
    {
     "name": "stdout",
     "output_type": "stream",
     "text": [
      "Manual nesting 4.82s\n",
      "Composed nesting 4.97s\n",
      "-3.1% less time\n"
     ]
    }
   ],
   "source": [
    "# yield from连接多个生成器\n",
    "\n",
    "# yield from比for快\n",
    "import timeit\n",
    "\n",
    "def child():\n",
    "    for i in range(1_000_000):\n",
    "        yield i\n",
    "\n",
    "# 正常传递生成器\n",
    "def slow():\n",
    "    for i in child():\n",
    "        yield i\n",
    "\n",
    "# 使用yield from传递生成器\n",
    "def fast():\n",
    "    yield from child()\n",
    "\n",
    "baseline = timeit.timeit(\n",
    "    stmt='for _ in slow(): pass',\n",
    "    globals=globals(),\n",
    "    number=50)\n",
    "print(f'Manual nesting {baseline:.2f}s')\n",
    "\n",
    "comparison = timeit.timeit(\n",
    "    stmt='for _ in fast(): pass',\n",
    "    globals=globals(),\n",
    "    number=50)\n",
    "print(f'Composed nesting {comparison:.2f}s')\n",
    "\n",
    "reduction = -(comparison - baseline) / baseline\n",
    "print(f'{reduction:.1%} less time')"
   ]
  },
  {
   "cell_type": "code",
   "execution_count": 1,
   "metadata": {},
   "outputs": [
    {
     "name": "stdout",
     "output_type": "stream",
     "text": [
      "[1, 2, 3, 4, 5, 6]\n",
      "['hello', 'hello', 'hello']\n",
      "[1, 2, 1, 2, 1, 2, 1, 2, 1, 2]\n",
      "['first', 'second']\n",
      "['first', 'second']\n",
      "['first', 'second']\n",
      "zip_longest: [('one', 1), ('two', 2), ('three', 'nope')]\n",
      "First five:  [1, 2, 3, 4, 5]\n",
      "Middle odds: [3, 5, 7]\n",
      "[1, 2, 3, 4, 5, 6]\n",
      "[7, 8, 9, 10]\n",
      "Filter false: [1, 3, 5, 7, 9]\n",
      "Sum:    [1, 3, 6, 10, 15, 21, 28, 36, 45, 55]\n",
      "Modulo: [1, 3, 6, 10, 15, 1, 8, 16, 5, 15]\n",
      "Single:   [(1, 1), (1, 2), (2, 1), (2, 2)]\n",
      "Multiple: [(1, 'a'), (1, 'b'), (2, 'a'), (2, 'b')]\n",
      "[(1, 2), (1, 3), (1, 4), (2, 1), (2, 3), (2, 4), (3, 1), (3, 2), (3, 4), (4, 1), (4, 2), (4, 3)]\n",
      "[(1, 2), (1, 3), (1, 4), (2, 3), (2, 4), (3, 4)]\n",
      "[(1, 1), (1, 2), (1, 3), (1, 4), (2, 2), (2, 3), (2, 4), (3, 3), (3, 4), (4, 4)]\n"
     ]
    }
   ],
   "source": [
    "# itertools\n",
    "import itertools\n",
    "\n",
    "it = itertools.chain([1, 2, 3], [4, 5, 6])\n",
    "print(list(it))\n",
    "\n",
    "it = itertools.repeat('hello', 3)\n",
    "print(list(it))\n",
    "\n",
    "it = itertools.cycle([1, 2])\n",
    "result = [next(it) for _ in range (10)]\n",
    "print(result)\n",
    "\n",
    "it1, it2, it3 = itertools.tee(['first', 'second'], 3)\n",
    "print(list(it1))\n",
    "print(list(it2))\n",
    "print(list(it3))\n",
    "\n",
    "keys = ['one', 'two', 'three']\n",
    "values = [1, 2]\n",
    "it = itertools.zip_longest(keys, values, fillvalue='nope')\n",
    "longest = list(it)\n",
    "print('zip_longest:', longest)\n",
    "\n",
    "values = [1, 2, 3, 4, 5, 6, 7, 8, 9, 10]\n",
    "first_five = itertools.islice(values, 5)\n",
    "print('First five: ', list(first_five))\n",
    "middle_odds = itertools.islice(values, 2, 8, 2)\n",
    "print('Middle odds:', list(middle_odds))\n",
    "\n",
    "values = [1, 2, 3, 4, 5, 6, 7, 8, 9, 10]\n",
    "less_than_seven = lambda x: x < 7\n",
    "it = itertools.takewhile(less_than_seven, values)\n",
    "print(list(it))\n",
    "\n",
    "values = [1, 2, 3, 4, 5, 6, 7, 8, 9, 10]\n",
    "less_than_seven = lambda x: x < 7\n",
    "it = itertools.dropwhile(less_than_seven, values)\n",
    "print(list(it))\n",
    "\n",
    "\n",
    "values = [1, 2, 3, 4, 5, 6, 7, 8, 9, 10]\n",
    "evens = lambda x: x % 2 == 0\n",
    "filter_false_result = itertools.filterfalse(evens, values)\n",
    "print('Filter false:', list(filter_false_result))\n",
    "\n",
    "values = [1, 2, 3, 4, 5, 6, 7, 8, 9, 10]\n",
    "sum_reduce = itertools.accumulate(values)\n",
    "print('Sum:   ', list(sum_reduce))\n",
    "def sum_modulo_20(first, second):\n",
    "    output = first + second\n",
    "    return output % 20\n",
    "\n",
    "modulo_reduce = itertools.accumulate(values, sum_modulo_20)\n",
    "print('Modulo:', list(modulo_reduce))\n",
    "\n",
    "single = itertools.product([1, 2], repeat=2)\n",
    "print('Single:  ', list(single))\n",
    "\n",
    "multiple = itertools.product([1, 2], ['a', 'b'])\n",
    "print('Multiple:', list(multiple))\n",
    "\n",
    "from pprint import pprint\n",
    "it = itertools.permutations([1, 2, 3, 4], 2)\n",
    "# original_print = print\n",
    "# print = pprint\n",
    "print(list(it))\n",
    "# print = original_print\n",
    "\n",
    "it = itertools.combinations([1, 2, 3, 4], 2)\n",
    "print(list(it))\n",
    "\n",
    "it = itertools.combinations_with_replacement([1, 2, 3, 4], 2)\n",
    "# original_print = print\n",
    "# print = pprint\n",
    "print(list(it))\n",
    "# print = original_print"
   ]
  }
 ],
 "metadata": {
  "kernelspec": {
   "display_name": "Python 3.9.13 ('base')",
   "language": "python",
   "name": "python3"
  },
  "language_info": {
   "codemirror_mode": {
    "name": "ipython",
    "version": 3
   },
   "file_extension": ".py",
   "mimetype": "text/x-python",
   "name": "python",
   "nbconvert_exporter": "python",
   "pygments_lexer": "ipython3",
   "version": "3.9.13"
  },
  "orig_nbformat": 4,
  "vscode": {
   "interpreter": {
    "hash": "49cb93f377a7abe7414b7b0f21fb3017538004a126cf690fb524202736b7fb92"
   }
  }
 },
 "nbformat": 4,
 "nbformat_minor": 2
}
