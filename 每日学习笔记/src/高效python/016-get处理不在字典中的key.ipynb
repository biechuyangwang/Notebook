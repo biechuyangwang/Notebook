{
 "cells": [
  {
   "cell_type": "code",
   "execution_count": 2,
   "metadata": {},
   "outputs": [
    {
     "name": "stdout",
     "output_type": "stream",
     "text": [
      "{'pumpernickel': 2, 'sourdough': 1, 'wheat': 1}\n",
      "{'pumpernickel': 2, 'sourdough': 1, 'wheat': 1, 'brioche': 1}\n"
     ]
    }
   ],
   "source": [
    "counters = {\n",
    "    'pumpernickel': 2,\n",
    "    'sourdough': 1,\n",
    "}\n",
    "key = 'wheat'\n",
    "\n",
    "# 使用in来判断key是否存在\n",
    "if key in counters:\n",
    "    counters[key] += 1\n",
    "else:\n",
    "    counters[key] = 1\n",
    "\n",
    "print(counters)\n",
    "\n",
    "# 使用try/except来处理key不存在的问题\n",
    "key = 'brioche'\n",
    "\n",
    "try:\n",
    "    counters[key] += 1\n",
    "except KeyError:\n",
    "    counters[key] = 1\n",
    "\n",
    "print(counters)"
   ]
  },
  {
   "cell_type": "code",
   "execution_count": 3,
   "metadata": {},
   "outputs": [
    {
     "name": "stdout",
     "output_type": "stream",
     "text": [
      "{'pumpernickel': 2, 'sourdough': 1, 'wheat': 1, 'brioche': 1, 'multigrain': 1}\n"
     ]
    }
   ],
   "source": [
    "# 前两者没法消除重复赋值\n",
    "# 如果字典的value是比较简单的类型，优先考虑get方法\n",
    "key = 'multigrain'\n",
    "\n",
    "count = counters.get(key, 0)\n",
    "counters[key] = count + 1\n",
    "\n",
    "print(counters)"
   ]
  },
  {
   "cell_type": "code",
   "execution_count": 7,
   "metadata": {},
   "outputs": [
    {
     "name": "stdout",
     "output_type": "stream",
     "text": [
      "{'baguette': ['Bob', 'Alice'], 'ciabatta': ['Coco', 'Deb'], 'brioche': ['Elmer']}\n",
      "{'baguette': ['Bob', 'Alice'], 'ciabatta': ['Coco', 'Deb'], 'brioche': ['Elmer'], 'rye': ['Felix']}\n",
      "{'baguette': ['Bob', 'Alice'], 'ciabatta': ['Coco', 'Deb'], 'brioche': ['Elmer'], 'rye': ['Felix'], 'wheat': ['Gertrude']}\n",
      "{'baguette': ['Bob', 'Alice'], 'ciabatta': ['Coco', 'Deb'], 'brioche': ['Elmer', 'Hugh'], 'rye': ['Felix'], 'wheat': ['Gertrude']}\n"
     ]
    }
   ],
   "source": [
    "# 字典的value是list\n",
    "votes = {\n",
    "    'baguette': ['Bob', 'Alice'],\n",
    "    'ciabatta': ['Coco', 'Deb'],\n",
    "}\n",
    "key = 'brioche'\n",
    "who = 'Elmer'\n",
    "\n",
    "# 使用in判断key是否存在\n",
    "if key in votes:\n",
    "    names = votes[key] # names绑定字典的value，也就是绑定一个list\n",
    "else:\n",
    "    votes[key] = names = [] # names绑定一个空list\n",
    "\n",
    "names.append(who) # 往list里添加元素\n",
    "print(votes)\n",
    "\n",
    "# 使用try/except判断key是否存在\n",
    "key = 'rye'\n",
    "who = 'Felix'\n",
    "\n",
    "try:\n",
    "    names = votes[key]\n",
    "except KeyError:\n",
    "    votes[key] = names = []\n",
    "\n",
    "names.append(who)\n",
    "\n",
    "print(votes)\n",
    "\n",
    "# 使用get处理key不存在问题\n",
    "key = 'wheat'\n",
    "who = 'Gertrude'\n",
    "\n",
    "# 只有字典的value是简单值时用get是最简洁的\n",
    "names = votes.get(key) # 只能返回不能绑定，所以需要绑定一下\n",
    "if names is None: \n",
    "    votes[key] = names = []\n",
    "\n",
    "names.append(who)\n",
    "\n",
    "print(votes)\n",
    "\n",
    "# get加上赋值表达式\n",
    "key = 'brioche'\n",
    "who = 'Hugh'\n",
    "\n",
    "if (names := votes.get(key)) is None:\n",
    "    votes[key] = names = []\n",
    "\n",
    "names.append(who)\n",
    "\n",
    "print(votes)"
   ]
  },
  {
   "cell_type": "code",
   "execution_count": 15,
   "metadata": {},
   "outputs": [
    {
     "name": "stdout",
     "output_type": "stream",
     "text": [
      "{'Mexico': {'Puerto Vallarta', 'Tulum'}, 'Japan': {'Kyoto', 'Hakone'}}\n"
     ]
    }
   ],
   "source": [
    "# 回顾一下\n",
    "visits = {\n",
    "    'Mexico': {'Tulum', 'Puerto Vallarta'},\n",
    "    'Japan': {'Hakone'},\n",
    "}\n",
    "if (japan := visits.get('Japan')) is None:       # Long\n",
    "    visits['Japan'] = japan = set()\n",
    "japan.add('Kyoto')\n",
    "original_print = print\n",
    "from pprint import pprint\n",
    "print = pprint # pprint可以输出复杂对象的编译器源码\n",
    "\n",
    "print(visits,sort_dicts=False) # pprint的sort_dects默认开启，按照key排序输出\n",
    "print = original_print # 还原原来的print"
   ]
  },
  {
   "cell_type": "code",
   "execution_count": 19,
   "metadata": {},
   "outputs": [
    {
     "name": "stdout",
     "output_type": "stream",
     "text": [
      "defaultdict(<class 'set'>, {'England': {'Bath', 'London'}})\n"
     ]
    }
   ],
   "source": [
    "# 复杂字典直接封装成类，使用collections中的defaultdict来实现key缺失\n",
    "# 也就是字典需要添加任意的key时，使用defaultdict\n",
    "from collections import defaultdict\n",
    "\n",
    "class Visits:\n",
    "    def __init__(self):\n",
    "        self.data = defaultdict(set)\n",
    "\n",
    "    def add(self, country, city):\n",
    "        self.data[country].add(city) # 如果key不存在，会创建key并添加空set，然后往set中添加元素\n",
    "\n",
    "visits = Visits()\n",
    "visits.add('England', 'Bath')\n",
    "visits.add('England', 'London')\n",
    "print(visits.data)"
   ]
  },
  {
   "cell_type": "code",
   "execution_count": 22,
   "metadata": {},
   "outputs": [
    {
     "data": {
      "text/plain": [
       "<function __main__.close_open_files()>"
      ]
     },
     "execution_count": 22,
     "metadata": {},
     "output_type": "execute_result"
    }
   ],
   "source": [
    "# 临时的输出文件\n",
    "import atexit\n",
    "import gc\n",
    "import io\n",
    "import os\n",
    "import tempfile\n",
    "\n",
    "TEST_DIR = tempfile.TemporaryDirectory()\n",
    "atexit.register(TEST_DIR.cleanup)\n",
    "\n",
    "# 确保窗口结束清理生成的文件\n",
    "OLD_CWD = os.getcwd()\n",
    "atexit.register(lambda: os.chdir(OLD_CWD))\n",
    "os.chdir(TEST_DIR.name)\n",
    "\n",
    "def close_open_files():\n",
    "    everything = gc.get_objects()\n",
    "    for obj in everything:\n",
    "        if isinstance(obj, io.IOBase):\n",
    "            obj.close()\n",
    "\n",
    "atexit.register(close_open_files)"
   ]
  },
  {
   "cell_type": "code",
   "execution_count": 27,
   "metadata": {},
   "outputs": [
    {
     "name": "stdout",
     "output_type": "stream",
     "text": [
      "{'profile_1234.png': <_io.BufferedRandom name='profile_1234.png'>}\n",
      "b'image data here 1234'\n"
     ]
    }
   ],
   "source": [
    "# 字典里的图片路径和相关的文件句柄关联，方便读取并写入图片\n",
    "\n",
    "# 使用get方法\n",
    "import os\n",
    "os.getcwd()\n",
    "\n",
    "pictures = {}\n",
    "path = 'profile_1234.png'\n",
    "\n",
    "with open(path, 'wb') as f: # 写点数据进去\n",
    "    f.write(b'image data here 1234')\n",
    "\n",
    "if (handle := pictures.get(path)) is None:\n",
    "    try:\n",
    "        handle = open(path, 'a+b')\n",
    "    except OSError:\n",
    "        print(f'Failed to open path {path}')\n",
    "        raise\n",
    "    else:\n",
    "        pictures[path] = handle\n",
    "\n",
    "handle.seek(0)\n",
    "image_data = handle.read()\n",
    "\n",
    "print(pictures) # pictures里存的是文件句柄，可以直接读写\n",
    "print(image_data)"
   ]
  },
  {
   "cell_type": "code",
   "execution_count": 25,
   "metadata": {},
   "outputs": [
    {
     "name": "stderr",
     "output_type": "stream",
     "text": [
      "ERROR:root:Expected\n",
      "Traceback (most recent call last):\n",
      "  File \"C:\\Users\\SAT\\AppData\\Local\\Temp\\ipykernel_40984\\1101936220.py\", line 18, in <module>\n",
      "    handle = pictures[path]\n",
      "TypeError: open_picture() missing 1 required positional argument: 'profile_path'\n"
     ]
    }
   ],
   "source": [
    "# 使用defaultdict报错，因为defaultdict只能传不带参数的函数\n",
    "import logging\n",
    "try:\n",
    "    path = 'profile_4555.csv'\n",
    "    \n",
    "    with open(path, 'wb') as f:\n",
    "        f.write(b'image data here 9239')\n",
    "    \n",
    "    from collections import defaultdict\n",
    "    \n",
    "    def open_picture(profile_path):\n",
    "        try:\n",
    "            return open(profile_path, 'a+b')\n",
    "        except OSError:\n",
    "            print(f'Failed to open path {profile_path}')\n",
    "            raise\n",
    "    \n",
    "    pictures = defaultdict(open_picture) # open_picture需要一个参数，没法处理\n",
    "    handle = pictures[path]\n",
    "    handle.seek(0)\n",
    "    image_data = handle.read()\n",
    "except:\n",
    "    logging.exception('Expected')\n",
    "else:\n",
    "    assert False"
   ]
  },
  {
   "cell_type": "code",
   "execution_count": 28,
   "metadata": {},
   "outputs": [
    {
     "name": "stdout",
     "output_type": "stream",
     "text": [
      "{'account_9090.csv': <_io.BufferedRandom name='account_9090.csv'>}\n",
      "b'mage data here 9090'\n"
     ]
    }
   ],
   "source": [
    "path = 'account_9090.csv'\n",
    "\n",
    "with open(path, 'wb') as f:\n",
    "    f.write(b'image data here 9090')\n",
    "\n",
    "def open_picture(profile_path):\n",
    "    try:\n",
    "        return open(profile_path, 'a+b')\n",
    "    except OSError:\n",
    "        print(f'Failed to open path {profile_path}')\n",
    "        raise\n",
    "\n",
    "class Pictures(dict):\n",
    "    def __missing__(self, key): # 当key不存在是，调用missing方法\n",
    "        value = open_picture(key)\n",
    "        self[key] = value\n",
    "        return value\n",
    "\n",
    "pictures = Pictures()\n",
    "handle = pictures[path]\n",
    "handle.seek(0)\n",
    "image_data = handle.read()\n",
    "print(pictures)\n",
    "print(image_data)"
   ]
  }
 ],
 "metadata": {
  "kernelspec": {
   "display_name": "Python 3.8.13 ('jupyterlab')",
   "language": "python",
   "name": "python3"
  },
  "language_info": {
   "codemirror_mode": {
    "name": "ipython",
    "version": 3
   },
   "file_extension": ".py",
   "mimetype": "text/x-python",
   "name": "python",
   "nbconvert_exporter": "python",
   "pygments_lexer": "ipython3",
   "version": "3.8.13"
  },
  "orig_nbformat": 4,
  "vscode": {
   "interpreter": {
    "hash": "680acffb1b7dda0f89f86579d82e4a5b51bf963daab96489c3ef982a7727b824"
   }
  }
 },
 "nbformat": 4,
 "nbformat_minor": 2
}
