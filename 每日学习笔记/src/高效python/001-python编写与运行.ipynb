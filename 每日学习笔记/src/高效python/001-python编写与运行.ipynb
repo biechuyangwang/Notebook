{
 "cells": [
  {
   "cell_type": "markdown",
   "metadata": {},
   "source": [
    "# 1 查看你正在使用的python的相关信息"
   ]
  },
  {
   "cell_type": "code",
   "execution_count": 1,
   "metadata": {},
   "outputs": [
    {
     "name": "stdout",
     "output_type": "stream",
     "text": [
      "sys.version_info(major=3, minor=8, micro=13, releaselevel='final', serial=0)\n",
      "3.8.13 (default, Oct 19 2022, 22:38:03) [MSC v.1916 64 bit (AMD64)]\n",
      "d:\\anaconda3\\envs\\jupyterlab\\python.exe\n"
     ]
    }
   ],
   "source": [
    "import sys\n",
    "print(sys.version_info) # python版本信息\n",
    "print(sys.version) # python版本信息及系统信息\n",
    "print(sys.executable) # python包的位置"
   ]
  },
  {
   "cell_type": "markdown",
   "metadata": {},
   "source": [
    "# 2 使用PEP-8标准\n",
    "## 2.1 空白符\n",
    "### 2.1.1 缩进符为四个空格\n",
    "### 2.1.2 每行80字符以内，多行的长表达式除了首行，其他各行用四个空格缩进\n",
    "### 2.1.3 import、类、函数定义间使用双空行，类内的函数定义使用单空行\n",
    "### 2.1.4 使用字典，键与冒号不加空格，冒号和值之间加个空格\n",
    "### 2.1.5 变量赋值，左右各加一个空格\n",
    "### 2.1.6 给变量的类型做注解（annotation），不要把变量名和冒号隔开，但是类型信息前应该有一个空格（和字典一样）\n",
    "\n",
    "## 2.2 命名\n",
    "### 2.2.1 函数、变量和属性用小写字母，各单词之间用下划线隔开\n",
    "### 2.2.2 被保护的属性使用前导下划线声明\n",
    "## 2.2.3 私有属性是哟欧两个前导下划线声明\n",
    "## 2.2.4 类和异常信息使用首字母大写的驼峰命名法\n",
    "### 2.2.5 模块级别的常量，所有字母都大写，各单词用下划线隔开\n",
    "## 2.2.6 类内部实例的方法将self作为第一个参数，self来表示实例本身\n",
    "## 2.2.7 类方法（区别于类的实例的方法，这个是类名直接调用）使用cls作为第一个参数，cls来表示类本身\n",
    "\n",
    "## 2.3 表达式\n",
    "## 2.3.1 不要使用变量的长度来判断空值，而使用隐式的方式。例如 if not somelist\n",
    "## 2.3.2 多行表达式使用括号括起来，而不要用‘\\’续行\n",
    "\n",
    "## 2.4 导入模块\n",
    "## 2.4.1 使用绝对引用。例如 from a import b, 而不是import b\n",
    "## 2.4.2 如果非要相对引用，使用 from . import b\n",
    "## 2.4.3 引入模块顺序：标准库，第三方库，自己的库\n"
   ]
  }
 ],
 "metadata": {
  "kernelspec": {
   "display_name": "Python 3.8.13 ('jupyterlab')",
   "language": "python",
   "name": "python3"
  },
  "language_info": {
   "codemirror_mode": {
    "name": "ipython",
    "version": 3
   },
   "file_extension": ".py",
   "mimetype": "text/x-python",
   "name": "python",
   "nbconvert_exporter": "python",
   "pygments_lexer": "ipython3",
   "version": "3.8.13"
  },
  "orig_nbformat": 4,
  "vscode": {
   "interpreter": {
    "hash": "680acffb1b7dda0f89f86579d82e4a5b51bf963daab96489c3ef982a7727b824"
   }
  }
 },
 "nbformat": 4,
 "nbformat_minor": 2
}
