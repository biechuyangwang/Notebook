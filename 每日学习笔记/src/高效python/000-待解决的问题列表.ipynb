{
 "cells": [
  {
   "cell_type": "markdown",
   "metadata": {},
   "source": [
    "# 待解决的问题列表\n",
    "## 000 notebook环境，基础命令\n",
    "## 001 代码注解如何运行时判断，详见015的文末\n",
    "## 002 MutableMapping是什么\n",
    "## 003 sort和sorted的区别\n",
    "## 004 多层结构的unpacking使用什么方法\n",
    "## 005 copy和deepcopy\n",
    "## 006 切片or带星unpacking\n",
    "## 007 f-string常用方法\n",
    "## 008 临时输出文件的设置，参考016后半部分\n",
    "## 009 file.seek\n",
    "## 010 namedtuple 补充019的示例\n",
    "## 011 闭包函数变量范围\n",
    "## 012 类的__call__方法\n",
    "## 013 docstring\n",
    "## 014 parse args\n",
    "## 015 __init__.py\n",
    "## 016 __all__参数\n",
    "## 017 warning和error\n",
    "## 018 解决循环引用\n",
    "## 019 装饰器参数和返回值，常用装饰器\n",
    "## 020"
   ]
  }
 ],
 "metadata": {
  "kernelspec": {
   "display_name": "Python 3.9.13 ('base')",
   "language": "python",
   "name": "python3"
  },
  "language_info": {
   "name": "python",
   "version": "3.9.13"
  },
  "orig_nbformat": 4,
  "vscode": {
   "interpreter": {
    "hash": "49cb93f377a7abe7414b7b0f21fb3017538004a126cf690fb524202736b7fb92"
   }
  }
 },
 "nbformat": 4,
 "nbformat_minor": 2
}
