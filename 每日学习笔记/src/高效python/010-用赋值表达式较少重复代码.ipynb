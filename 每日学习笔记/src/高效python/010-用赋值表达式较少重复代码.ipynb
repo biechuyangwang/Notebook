{
 "cells": [
  {
   "cell_type": "markdown",
   "metadata": {},
   "source": [
    "# 赋值表达式\n",
    "- 海象操作符(walrus operator)是python3.8引入的\n",
    "- 常用在if/else结构或者while循环中"
   ]
  },
  {
   "cell_type": "code",
   "execution_count": 1,
   "metadata": {},
   "outputs": [
    {
     "name": "stdout",
     "output_type": "stream",
     "text": [
      "Yes\n"
     ]
    }
   ],
   "source": [
    "# 常规if/else\n",
    "str = \"Hello\"\n",
    "if len(str) > 3:\n",
    "    print(\"Yes\")\n",
    "else: print(\"No\")"
   ]
  },
  {
   "cell_type": "code",
   "execution_count": 2,
   "metadata": {},
   "outputs": [
    {
     "name": "stdout",
     "output_type": "stream",
     "text": [
      "Yes\n"
     ]
    }
   ],
   "source": [
    "# 海象操作符的赋值表达式，进行赋值后的操作\n",
    "if len(str:=\"Hello\") > 3:\n",
    "    print(\"Yes\")\n",
    "else: print(\"No\")"
   ]
  }
 ],
 "metadata": {
  "kernelspec": {
   "display_name": "Python 3.8.13 ('jupyterlab')",
   "language": "python",
   "name": "python3"
  },
  "language_info": {
   "codemirror_mode": {
    "name": "ipython",
    "version": 3
   },
   "file_extension": ".py",
   "mimetype": "text/x-python",
   "name": "python",
   "nbconvert_exporter": "python",
   "pygments_lexer": "ipython3",
   "version": "3.8.13"
  },
  "orig_nbformat": 4,
  "vscode": {
   "interpreter": {
    "hash": "680acffb1b7dda0f89f86579d82e4a5b51bf963daab96489c3ef982a7727b824"
   }
  }
 },
 "nbformat": 4,
 "nbformat_minor": 2
}
