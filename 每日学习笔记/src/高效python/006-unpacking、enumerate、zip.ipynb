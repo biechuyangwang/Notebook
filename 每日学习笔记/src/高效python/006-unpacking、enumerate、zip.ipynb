{
 "cells": [
  {
   "cell_type": "code",
   "execution_count": 8,
   "metadata": {},
   "outputs": [
    {
     "name": "stdout",
     "output_type": "stream",
     "text": [
      "dict_items([('chips', 140), ('popcorn', 80), ('nuts', 190)])\n",
      "#1: chips has 140 calories\n",
      "#2: popcorn has 80 calories\n",
      "#3: nuts has 190 calories\n",
      "1 2 3\n"
     ]
    }
   ],
   "source": [
    "# 使用unpacking来解析list、tuple或者dict，其中dict需要转化为tuple\n",
    "snack_calories = {\n",
    "    \"chips\": 140,\n",
    "    \"popcorn\": 80,\n",
    "    \"nuts\": 190,\n",
    "}\n",
    "print(snack_calories.items()) # 字典转化为字典列表（dict_items），其实是元组列表\n",
    "\n",
    "# list和tuple可以unpacking\n",
    "for idx, (name, calories) in enumerate(snack_calories.items(),1): # 1表示起始序号\n",
    "    print(f\"#{idx}: {name} has {calories} calories\")\n"
   ]
  },
  {
   "cell_type": "code",
   "execution_count": 9,
   "metadata": {},
   "outputs": [
    {
     "name": "stdout",
     "output_type": "stream",
     "text": [
      "(0, 'chips')\n",
      "(1, 'popcorn')\n"
     ]
    }
   ],
   "source": [
    "# 使用enumerate代替range\n",
    "it = enumerate(snack_calories) # enumerate将任何一种迭代器封装成惰性生成器，每次循环只从iterator里取下一个值\n",
    "print(next(it))\n",
    "print(next(it))"
   ]
  },
  {
   "cell_type": "code",
   "execution_count": 1,
   "metadata": {},
   "outputs": [
    {
     "name": "stdout",
     "output_type": "stream",
     "text": [
      "Cecilia: 7\n"
     ]
    }
   ],
   "source": [
    "# zip\n",
    "names = ['Cecilia','Lise','Marie']\n",
    "counts = [len(n) for n in names]\n",
    "max_count = 0\n",
    "longest_name = \"\"\n",
    "\n",
    "for name, count in zip(names, counts): # zip遍历短的列表结束则整个迭代结束,如果想用长的，这使用itertools.zip_longest\n",
    "    if count > max_count:\n",
    "        longest_name = name\n",
    "        max_count = count\n",
    "\n",
    "print(f\"{longest_name}: {max_count}\")"
   ]
  }
 ],
 "metadata": {
  "kernelspec": {
   "display_name": "Python 3.8.13 ('jupyterlab')",
   "language": "python",
   "name": "python3"
  },
  "language_info": {
   "codemirror_mode": {
    "name": "ipython",
    "version": 3
   },
   "file_extension": ".py",
   "mimetype": "text/x-python",
   "name": "python",
   "nbconvert_exporter": "python",
   "pygments_lexer": "ipython3",
   "version": "3.8.13"
  },
  "orig_nbformat": 4,
  "vscode": {
   "interpreter": {
    "hash": "680acffb1b7dda0f89f86579d82e4a5b51bf963daab96489c3ef982a7727b824"
   }
  }
 },
 "nbformat": 4,
 "nbformat_minor": 2
}
