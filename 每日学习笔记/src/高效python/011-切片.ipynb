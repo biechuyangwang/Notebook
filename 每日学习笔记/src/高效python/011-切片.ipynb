{
 "cells": [
  {
   "cell_type": "markdown",
   "metadata": {},
   "source": [
    "# 切片\n",
    "## 1 切片与采样"
   ]
  },
  {
   "cell_type": "code",
   "execution_count": 17,
   "metadata": {},
   "outputs": [
    {
     "name": "stdout",
     "output_type": "stream",
     "text": [
      "['W', 'o', 'r', 'l', 'd']\n",
      "['W', 'o', 'r', 'l', 'd']\n",
      "['W', 'o', 'r', 'l']\n",
      "['W', 'o', 'r']\n"
     ]
    }
   ],
   "source": [
    "str = list(\"Hello World\")\n",
    "# 结尾可省略，-1表示倒数第一个元素的下标\n",
    "print(str[6:11])\n",
    "print(str[6:])\n",
    "print(str[6:-1])\n",
    "print(str[6:-2])"
   ]
  },
  {
   "cell_type": "code",
   "execution_count": 18,
   "metadata": {},
   "outputs": [
    {
     "name": "stdout",
     "output_type": "stream",
     "text": [
      "['H', 'e', 'l', 'l', 'o']\n",
      "['H', 'e', 'l', 'l', 'o']\n",
      "['H', 'e', 'l', 'l', 'o', ' ', 'W', 'o', 'r', 'l', 'd']\n"
     ]
    }
   ],
   "source": [
    "# 开始可省略，都省略表示全部\n",
    "print(str[0:5])\n",
    "print(str[:5])\n",
    "print(str[:])"
   ]
  },
  {
   "cell_type": "code",
   "execution_count": 19,
   "metadata": {},
   "outputs": [
    {
     "name": "stdout",
     "output_type": "stream",
     "text": [
      "['H', 'l', 'o', 'W', 'r']\n",
      "['d', 'l', 'r', 'o', 'W', ' ', 'o', 'l', 'l', 'e', 'H']\n",
      "['d', 'r', 'W', 'o', 'l', 'H']\n"
     ]
    }
   ],
   "source": [
    "# 间隔取样,负数表示倒序取样\n",
    "print(str[:-1:2])\n",
    "print(str[::-1])\n",
    "print(str[::-2])"
   ]
  },
  {
   "cell_type": "markdown",
   "metadata": {},
   "source": [
    "## 2 在等号右边做切片、在等号左边做切片（拷贝和别名）"
   ]
  },
  {
   "cell_type": "code",
   "execution_count": 22,
   "metadata": {},
   "outputs": [
    {
     "name": "stdout",
     "output_type": "stream",
     "text": [
      "['W', 'o', 'r', 'l', 'd']\n",
      "['M', 'o', 'r', 'l', 'd']\n",
      "['H', 'e', 'l', 'l', 'o', ' ', 'W', 'o', 'r', 'l', 'd']\n"
     ]
    }
   ],
   "source": [
    "# 切片是copy形式的，会生成新的列表,改变切片列表不会影响原有列表\n",
    "new_str = str[6:]\n",
    "print(new_str)\n",
    "new_str[0] = \"M\"\n",
    "print(new_str)\n",
    "print(str)"
   ]
  },
  {
   "cell_type": "code",
   "execution_count": 23,
   "metadata": {},
   "outputs": [
    {
     "name": "stdout",
     "output_type": "stream",
     "text": [
      "['Z', 'e', 'l', 'l', 'o', ' ', 'W', 'o', 'r', 'l', 'd']\n",
      "['Z', 'e', 'l', 'l', 'o', ' ', 'W', 'o', 'r', 'l', 'd']\n"
     ]
    }
   ],
   "source": [
    "# 普通赋值语句则不同，是浅拷贝,改变会影响原列表\n",
    "new_str = str\n",
    "new_str[0] = \"Z\"\n",
    "print(new_str)\n",
    "print(str)"
   ]
  },
  {
   "cell_type": "code",
   "execution_count": 24,
   "metadata": {},
   "outputs": [
    {
     "name": "stdout",
     "output_type": "stream",
     "text": [
      "['a', 'b', 'c', 'd', 'e', 'f', 'g', 'h']\n",
      "['a', 'b', 1, 2, 3, 'h']\n"
     ]
    }
   ],
   "source": [
    "# 切片在等号左边，和unpacking不一样，不需要左右长度相等\n",
    "a = list(\"abcdefgh\")\n",
    "print(a)\n",
    "a[2:7] = [1,2,3] # 5个元素变成3个，其他地方保留\n",
    "print(a)"
   ]
  },
  {
   "cell_type": "code",
   "execution_count": 25,
   "metadata": {},
   "outputs": [
    {
     "name": "stdout",
     "output_type": "stream",
     "text": [
      "['a', 'b', 1, 2, 3, 'h']\n",
      "['a', -1, 0, 1, 2, 3, 'h']\n"
     ]
    }
   ],
   "source": [
    "# 也可以变长，其实类似于子列表替换后拼接的过程\n",
    "print(a)\n",
    "a[1:2] = [-1,0]\n",
    "print(a)"
   ]
  },
  {
   "cell_type": "code",
   "execution_count": 26,
   "metadata": {},
   "outputs": [
    {
     "name": "stdout",
     "output_type": "stream",
     "text": [
      "['a', -1, 0, 1, 2, 3, 'h']\n",
      "[1, 2, 3]\n"
     ]
    }
   ],
   "source": [
    "# 切片在等号左边不会生成新的列表,只是值的替换\n",
    "b = a\n",
    "print(b)\n",
    "a[:] = [1,2,3]\n",
    "print(b)"
   ]
  },
  {
   "cell_type": "markdown",
   "metadata": {},
   "source": [
    "## 3 不要同时指定起止下标和间隔值"
   ]
  },
  {
   "cell_type": "code",
   "execution_count": 34,
   "metadata": {},
   "outputs": [
    {
     "name": "stdout",
     "output_type": "stream",
     "text": [
      "['c', 'e']\n",
      "['c', 'e']\n",
      "['c', 'e']\n"
     ]
    }
   ],
   "source": [
    "# 可以分两步，一步用来写间隔，一步用来写范围。因为要有一次浅拷贝，所以哪个浅拷贝时间短，就哪步放前面\n",
    "a = list(\"abcdefgh\")\n",
    "b = a[::2]\n",
    "b = b[1:-1]\n",
    "print(b)\n",
    "# 如果追求效率，请使用itertools.islice方法\n",
    "import itertools\n",
    "b = list(itertools.islice(a,2,6,2)) # 因为这个保证都是正数，不容易混淆\n",
    "print(b)\n",
    "# 其实也可以实现，就是可读性不强\n",
    "b = a[2:-2:2]\n",
    "print(b)"
   ]
  }
 ],
 "metadata": {
  "kernelspec": {
   "display_name": "Python 3.8.13 ('jupyterlab')",
   "language": "python",
   "name": "python3"
  },
  "language_info": {
   "codemirror_mode": {
    "name": "ipython",
    "version": 3
   },
   "file_extension": ".py",
   "mimetype": "text/x-python",
   "name": "python",
   "nbconvert_exporter": "python",
   "pygments_lexer": "ipython3",
   "version": "3.8.13"
  },
  "orig_nbformat": 4,
  "vscode": {
   "interpreter": {
    "hash": "680acffb1b7dda0f89f86579d82e4a5b51bf963daab96489c3ef982a7727b824"
   }
  }
 },
 "nbformat": 4,
 "nbformat_minor": 2
}
