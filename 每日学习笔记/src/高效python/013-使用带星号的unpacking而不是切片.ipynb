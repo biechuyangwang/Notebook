{
 "cells": [
  {
   "cell_type": "code",
   "execution_count": 5,
   "metadata": {},
   "outputs": [
    {
     "name": "stderr",
     "output_type": "stream",
     "text": [
      "ERROR:root:Expected\n",
      "Traceback (most recent call last):\n",
      "  File \"C:\\Users\\SAT\\AppData\\Local\\Temp\\ipykernel_29964\\3880742318.py\", line 8, in <module>\n",
      "    oldest, second_oldest = car_ages_descending\n",
      "ValueError: too many values to unpack (expected 2)\n"
     ]
    }
   ],
   "source": [
    "# unpacking 需要左右数量一致\n",
    "import logging\n",
    "\n",
    "# 使用try except不会影响正常的执行,但是异常点后面会受影响\n",
    "try:\n",
    "    car_ages = [0,9,4,8,7,20,19,1,6,15]\n",
    "    car_ages_descending = sorted(car_ages,reverse=True)\n",
    "    car_ages_descending[1] = 1\n",
    "    oldest, second_oldest = car_ages_descending\n",
    "    car_ages_descending[0] = 0\n",
    "except:\n",
    "    logging.exception(\"Expected\")\n",
    "else:\n",
    "    assert False\n"
   ]
  },
  {
   "cell_type": "code",
   "execution_count": 13,
   "metadata": {},
   "outputs": [
    {
     "name": "stdout",
     "output_type": "stream",
     "text": [
      "[0, 9, 4, 8, 7, 20, 19, 1, 6, 15]\n",
      "20 19 [15, 9, 8, 7, 6, 4, 1, 0]\n"
     ]
    }
   ],
   "source": [
    "# 可以用列表来接收剩下的，但是代码看起来不整洁\n",
    "print(car_ages) # 说明sorted并非原地排序，是拷贝的副本\n",
    "car_ages_descending = sorted(car_ages,reverse=True)\n",
    "\n",
    "oldest = car_ages_descending[0]\n",
    "second_oldest = car_ages_descending[1]\n",
    "others = car_ages_descending[2:]\n",
    "print(oldest, second_oldest, others)\n"
   ]
  },
  {
   "cell_type": "code",
   "execution_count": 12,
   "metadata": {},
   "outputs": [
    {
     "name": "stdout",
     "output_type": "stream",
     "text": [
      "[0, 9, 4, 8, 7, 20, 19, 1, 6, 15]\n",
      "20 19 [15, 9, 8, 7, 6, 4, 1, 0]\n",
      "20 0 [19, 15, 9, 8, 7, 6, 4, 1]\n",
      "0 19 [20, 19, 15, 9, 8, 7, 6, 4]\n"
     ]
    }
   ],
   "source": [
    "print(car_ages) # 说明sorted并非原地排序，是拷贝的副本\n",
    "car_ages_descending = sorted(car_ages,reverse=True)\n",
    "\n",
    "# 可以将任意位置剩下的接收为列表，但是必须搭配一个普通变量使用\n",
    "oldest, second_oldest, *others = car_ages_descending\n",
    "print(oldest, second_oldest, others)\n",
    "\n",
    "oldest, *others, youngest = car_ages_descending\n",
    "print(oldest, youngest, others)\n",
    "\n",
    "*others, second_youngest, youngest = car_ages_descending\n",
    "print(youngest, second_oldest, others)"
   ]
  },
  {
   "cell_type": "code",
   "execution_count": 15,
   "metadata": {},
   "outputs": [
    {
     "name": "stderr",
     "output_type": "stream",
     "text": [
      "ERROR:root:Expected\n",
      "Traceback (most recent call last):\n",
      "  File \"C:\\Users\\SAT\\AppData\\Local\\Temp\\ipykernel_29964\\455150423.py\", line 3, in <module>\n",
      "    eval(source)\n",
      "  File \"<string>\", line 1\n",
      "    *others = car_ages_descending\n",
      "    ^\n",
      "SyntaxError: invalid syntax\n"
     ]
    }
   ],
   "source": [
    "# 必须配合其他变量使用\n",
    "try:\n",
    "    source = \"\"\"*others = car_ages_descending\"\"\" # 不用字符串包裹起来，编译都过不去\n",
    "    eval(source)\n",
    "except:\n",
    "    logging.exception('Expected')\n",
    "else:\n",
    "    assert False"
   ]
  },
  {
   "cell_type": "code",
   "execution_count": 16,
   "metadata": {},
   "outputs": [
    {
     "name": "stderr",
     "output_type": "stream",
     "text": [
      "ERROR:root:Expected\n",
      "Traceback (most recent call last):\n",
      "  File \"C:\\Users\\SAT\\AppData\\Local\\Temp\\ipykernel_29964\\2078358905.py\", line 4, in <module>\n",
      "    eval(source)\n",
      "  File \"<string>\", line 1\n",
      "    first, *middle, *second_middle, last = car_ages_descending\n",
      "           ^\n",
      "SyntaxError: invalid syntax\n"
     ]
    }
   ],
   "source": [
    "# 单层结构，同一级智能最多出现一次带星号的unpacking\n",
    "try:\n",
    "    source = \"\"\"first, *middle, *second_middle, last = car_ages_descending\"\"\" # 不用字符串包裹起来，编译都过不去\n",
    "    eval(source)\n",
    "except:\n",
    "    logging.exception('Expected')\n",
    "else:\n",
    "    assert False"
   ]
  },
  {
   "cell_type": "code",
   "execution_count": 17,
   "metadata": {},
   "outputs": [
    {
     "name": "stdout",
     "output_type": "stream",
     "text": [
      "Best at Downtown is Silver Shadow, 2 others\n",
      "Best at Airport is Skyline, 3 others\n"
     ]
    }
   ],
   "source": [
    "# 多层结构中，同一级的不同部分可以出现各自的带星unpacking，当然不推荐这么写，不容易读懂\n",
    "car_inventory = {\n",
    "\t'Downtown': ('Silver Shadow', 'Pinto', 'DMC'),\n",
    "\t'Airport': ('Skyline', 'Viper', 'Gremlin', 'Nova'),\n",
    "}\n",
    "((loc1, (best1, *rest1)),\n",
    " (loc2, (best2, *rest2))) = car_inventory.items()\n",
    "\n",
    "print(f'Best at {loc1} is {best1}, {len(rest1)} others')\n",
    "print(f'Best at {loc2} is {best2}, {len(rest2)} others')"
   ]
  },
  {
   "cell_type": "code",
   "execution_count": 18,
   "metadata": {},
   "outputs": [
    {
     "name": "stdout",
     "output_type": "stream",
     "text": [
      "1 2 []\n"
     ]
    }
   ],
   "source": [
    "# 带星号unpacking总会得到一个列表，即使是空值\n",
    "short_list = [1, 2]\n",
    "first, second, *rest = short_list\n",
    "print(first, second, rest)"
   ]
  },
  {
   "cell_type": "code",
   "execution_count": 19,
   "metadata": {},
   "outputs": [
    {
     "name": "stdout",
     "output_type": "stream",
     "text": [
      "CSV Header: ('Date', 'Make', 'Model', 'Year', 'Price')\n",
      "Row count:  200\n"
     ]
    }
   ],
   "source": [
    "# 使用切片来处理迭代器\n",
    "def generate_csv():\n",
    "\tyield ('Date', 'Make' , 'Model', 'Year', 'Price')\n",
    "\tfor i in range(100):\n",
    "\t\tyield ('2019-03-25', 'Honda', 'Fit' , '2010', '$3400')\n",
    "\t\tyield ('2019-03-26', 'Ford', 'F150' , '2008', '$2400')\n",
    "\n",
    "# 每次只取一行（header）\n",
    "all_csv_rows = list(generate_csv()) # 需要转list才能切片\n",
    "header = all_csv_rows[0]\n",
    "rows = all_csv_rows[1:]\n",
    "print('CSV Header:', header)\n",
    "print('Row count: ', len(rows))"
   ]
  },
  {
   "cell_type": "code",
   "execution_count": 20,
   "metadata": {},
   "outputs": [
    {
     "name": "stdout",
     "output_type": "stream",
     "text": [
      "CSV Header: ('Date', 'Make', 'Model', 'Year', 'Price')\n",
      "Row count:  200\n"
     ]
    }
   ],
   "source": [
    "# 使用带星unpacking来处理迭代器\n",
    "it = generate_csv()\n",
    "header, *rows = it\n",
    "print('CSV Header:', header)\n",
    "print('Row count: ', len(rows))"
   ]
  }
 ],
 "metadata": {
  "kernelspec": {
   "display_name": "Python 3.8.13 ('jupyterlab')",
   "language": "python",
   "name": "python3"
  },
  "language_info": {
   "codemirror_mode": {
    "name": "ipython",
    "version": 3
   },
   "file_extension": ".py",
   "mimetype": "text/x-python",
   "name": "python",
   "nbconvert_exporter": "python",
   "pygments_lexer": "ipython3",
   "version": "3.8.13"
  },
  "orig_nbformat": 4,
  "vscode": {
   "interpreter": {
    "hash": "680acffb1b7dda0f89f86579d82e4a5b51bf963daab96489c3ef982a7727b824"
   }
  }
 },
 "nbformat": 4,
 "nbformat_minor": 2
}
