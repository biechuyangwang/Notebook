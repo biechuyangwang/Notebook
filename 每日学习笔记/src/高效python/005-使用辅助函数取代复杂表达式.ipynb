{
 "cells": [
  {
   "cell_type": "code",
   "execution_count": 6,
   "metadata": {},
   "outputs": [
    {
     "name": "stdout",
     "output_type": "stream",
     "text": [
      "{'red': ['5'], 'blue': ['0'], 'green': ['']}\n",
      "0\n",
      "'2'\n",
      "2\n",
      "2\n"
     ]
    }
   ],
   "source": [
    "from urllib.parse import parse_qs\n",
    "my_values = parse_qs(\"red=5&blue=0&green=\",\n",
    "                    keep_blank_values=True)\n",
    "print(repr(my_values)) # repr输出解释器里的原始值\n",
    "\n",
    "def get_first_int(values, key, default=0):\n",
    "    found = values.get(key, [\"\"])\n",
    "    if found[0]:\n",
    "        return int(found[0])\n",
    "    return default\n",
    "\n",
    "green  = get_first_int(my_values, \"green\")\n",
    "print(repr(green))\n",
    "\n",
    "# repr的好处\n",
    "print(repr(\"2\")) # 可以输出引号，比较直观知道类型\n",
    "print(\"2\")\n",
    "print(repr(2))"
   ]
  }
 ],
 "metadata": {
  "kernelspec": {
   "display_name": "Python 3.8.13 ('jupyterlab')",
   "language": "python",
   "name": "python3"
  },
  "language_info": {
   "codemirror_mode": {
    "name": "ipython",
    "version": 3
   },
   "file_extension": ".py",
   "mimetype": "text/x-python",
   "name": "python",
   "nbconvert_exporter": "python",
   "pygments_lexer": "ipython3",
   "version": "3.8.13"
  },
  "orig_nbformat": 4,
  "vscode": {
   "interpreter": {
    "hash": "680acffb1b7dda0f89f86579d82e4a5b51bf963daab96489c3ef982a7727b824"
   }
  }
 },
 "nbformat": 4,
 "nbformat_minor": 2
}
