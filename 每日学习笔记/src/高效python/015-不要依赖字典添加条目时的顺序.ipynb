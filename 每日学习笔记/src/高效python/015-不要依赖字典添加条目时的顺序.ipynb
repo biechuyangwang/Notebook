{
 "cells": [
  {
   "cell_type": "code",
   "execution_count": 1,
   "metadata": {},
   "outputs": [
    {
     "name": "stdout",
     "output_type": "stream",
     "text": [
      "{'cat': 'kitten', 'dog': 'puppy'}\n"
     ]
    }
   ],
   "source": [
    "# python3.5及之前，字典是hash算法来实现的\n",
    "# python3.6以后，字典保留了添加时的顺序\n",
    "baby_names = {\n",
    "    'cat': 'kitten',\n",
    "    'dog': 'puppy',\n",
    "}\n",
    "print(baby_names)"
   ]
  },
  {
   "cell_type": "markdown",
   "metadata": {},
   "source": [
    "- 很容易定义和标准dict相似的实例对象\n",
    "- 不能假设迭代时是按照插入时的顺序一致\n",
    "- 如果想按照标准dict来处理，有三种方案\n",
    "    - 不依赖插入顺序来编写代码，重写排序规则\n",
    "    - 运行时判断是不是标准dict\n",
    "    - 给代码加类型注解并做静态分析"
   ]
  },
  {
   "cell_type": "code",
   "execution_count": 2,
   "metadata": {},
   "outputs": [
    {
     "name": "stdout",
     "output_type": "stream",
     "text": [
      "{'otter': 1, 'fox': 2, 'polar bear': 3}\n",
      "otter\n"
     ]
    }
   ],
   "source": [
    "votes = {\n",
    "    'otter': 1281,\n",
    "    'polar bear': 587,\n",
    "    'fox': 863,\n",
    "}\n",
    "\n",
    "def populate_ranks(votes, ranks):\n",
    "    names = list(votes.keys())\n",
    "    names.sort(key=votes.get, reverse=True) # key其实是指定一种idx的比较规则，可以不涉及对象本身\n",
    "    for i, name in enumerate(names, 1):\n",
    "        ranks[name] = i\n",
    "\n",
    "def get_winner(ranks):\n",
    "    return next(iter(ranks))\n",
    "\n",
    "ranks = {}\n",
    "populate_ranks(votes, ranks)\n",
    "print(ranks)\n",
    "winner = get_winner(ranks)\n",
    "print(winner)"
   ]
  },
  {
   "cell_type": "code",
   "execution_count": 3,
   "metadata": {},
   "outputs": [
    {
     "name": "stdout",
     "output_type": "stream",
     "text": [
      "{'otter': 1, 'fox': 2, 'polar bear': 3}\n",
      "fox\n"
     ]
    }
   ],
   "source": [
    "from collections.abc import MutableMapping\n",
    "\n",
    "class SortedDict(MutableMapping):\n",
    "    def __init__(self):\n",
    "        self.data = {}\n",
    "\n",
    "    def __getitem__(self, key):\n",
    "        return self.data[key]\n",
    "\n",
    "    def __setitem__(self, key, value):\n",
    "        self.data[key] = value\n",
    "\n",
    "    def __delitem__(self, key):\n",
    "        del self.data[key]\n",
    "\n",
    "    def __iter__(self):\n",
    "        keys = list(self.data.keys())\n",
    "        keys.sort()\n",
    "        for key in keys:\n",
    "            yield key\n",
    "\n",
    "    def __len__(self):\n",
    "        return len(self.data)\n",
    "\n",
    "my_dict = SortedDict()\n",
    "my_dict['otter'] = 1\n",
    "my_dict['cheeta'] = 2\n",
    "my_dict['anteater'] = 3\n",
    "my_dict['deer'] = 4\n",
    "\n",
    "# 测试一下数据加载是否正确\n",
    "assert my_dict['otter'] == 1\n",
    "\n",
    "assert 'cheeta' in my_dict\n",
    "del my_dict['cheeta']\n",
    "assert 'cheeta' not in my_dict\n",
    "\n",
    "expected = [('anteater', 3), ('deer', 4), ('otter', 1)]\n",
    "assert list(my_dict.items()) == expected\n",
    "\n",
    "assert not isinstance(my_dict, dict)\n",
    "\n",
    "# 构造一个类似标准dict的字典\n",
    "sorted_ranks = SortedDict()\n",
    "populate_ranks(votes, sorted_ranks)\n",
    "print(sorted_ranks.data)\n",
    "winner = get_winner(sorted_ranks)\n",
    "print(winner)\n",
    "# 函数返回按照字母排序顺序，而不是populate_ranks是的插入顺序\n",
    "# {'otter': 1, 'fox': 2, 'polar bear': 3}\n",
    "# fox"
   ]
  },
  {
   "cell_type": "code",
   "execution_count": 4,
   "metadata": {},
   "outputs": [
    {
     "name": "stdout",
     "output_type": "stream",
     "text": [
      "otter\n"
     ]
    }
   ],
   "source": [
    "# 处理方式一:不依赖插入顺序，重写迭代\n",
    "def get_winner(ranks):\n",
    "    for name, rank in ranks.items():\n",
    "        if rank == 1:\n",
    "            return name\n",
    "\n",
    "winner = get_winner(sorted_ranks)\n",
    "print(winner)"
   ]
  },
  {
   "cell_type": "code",
   "execution_count": 6,
   "metadata": {},
   "outputs": [
    {
     "name": "stderr",
     "output_type": "stream",
     "text": [
      "ERROR:root:Expected\n",
      "Traceback (most recent call last):\n",
      "  File \"C:\\Users\\SAT\\AppData\\Local\\Temp\\ipykernel_28596\\1719194662.py\", line 11, in <module>\n",
      "    get_winner(sorted_ranks)\n",
      "  File \"C:\\Users\\SAT\\AppData\\Local\\Temp\\ipykernel_28596\\1719194662.py\", line 6, in get_winner\n",
      "    raise TypeError('must provide a dict instance')\n",
      "TypeError: must provide a dict instance\n"
     ]
    }
   ],
   "source": [
    "# 处理方式二:判断是不是想要的dict\n",
    "import logging\n",
    "try:\n",
    "    def get_winner(ranks):\n",
    "        if not isinstance(ranks, dict):\n",
    "            raise TypeError('must provide a dict instance')\n",
    "        return next(iter(ranks))\n",
    "    \n",
    "    assert get_winner(ranks) == 'otter'\n",
    "    \n",
    "    get_winner(sorted_ranks)\n",
    "except:\n",
    "    logging.exception('Expected')\n",
    "else:\n",
    "    assert False"
   ]
  },
  {
   "cell_type": "code",
   "execution_count": 8,
   "metadata": {},
   "outputs": [
    {
     "name": "stdout",
     "output_type": "stream",
     "text": [
      "{'otter': 1, 'fox': 2, 'polar bear': 3}\n",
      "fox\n"
     ]
    }
   ],
   "source": [
    "# xx.py\n",
    "# 解决方法三:类型注解\n",
    "# 使用mypy运行，python -m mypy --strict xx.py\n",
    "# 类型不符会报错\n",
    "from typing import Dict, MutableMapping\n",
    "\n",
    "def populate_ranks(votes: Dict[str, int],\n",
    "                   ranks: Dict[str, int]) -> None:\n",
    "    names = list(votes.keys())\n",
    "    names.sort(key=votes.get, reverse=True)\n",
    "    for i, name in enumerate(names, 1):\n",
    "        ranks[name] = i\n",
    "\n",
    "def get_winner(ranks: Dict[str, int]) -> str:\n",
    "    return next(iter(ranks))\n",
    "\n",
    "from typing import Iterator, MutableMapping\n",
    "\n",
    "class SortedDict(MutableMapping[str, int]):\n",
    "    def __init__(self) -> None:\n",
    "        self.data: Dict[str, int] = {}\n",
    "\n",
    "    def __getitem__(self, key: str) -> int:\n",
    "        return self.data[key]\n",
    "\n",
    "    def __setitem__(self, key: str, value: int) -> None:\n",
    "        self.data[key] = value\n",
    "\n",
    "    def __delitem__(self, key: str) -> None:\n",
    "        del self.data[key]\n",
    "\n",
    "    def __iter__(self) -> Iterator[str]:\n",
    "        keys = list(self.data.keys())\n",
    "        keys.sort()\n",
    "        for key in keys:\n",
    "            yield key\n",
    "\n",
    "    def __len__(self) -> int:\n",
    "        return len(self.data)\n",
    "\n",
    "votes = {\n",
    "    'otter': 1281,\n",
    "    'polar bear': 587,\n",
    "    'fox': 863,\n",
    "}\n",
    "\n",
    "sorted_ranks = SortedDict()\n",
    "populate_ranks(votes, sorted_ranks)\n",
    "print(sorted_ranks.data)\n",
    "winner = get_winner(sorted_ranks)\n",
    "print(winner)"
   ]
  },
  {
   "cell_type": "code",
   "execution_count": 10,
   "metadata": {},
   "outputs": [
    {
     "name": "stdout",
     "output_type": "stream",
     "text": [
      "12\n",
      "3\n"
     ]
    }
   ],
   "source": [
    "# 类型注解不用专门的分析工具不会报错\n",
    "def add(a:int, b:int) -> int:\n",
    "    return a+b\n",
    "\n",
    "print(add(\"1\", \"2\")) # 这样不会报错\n",
    "print(add(1, 2))"
   ]
  }
 ],
 "metadata": {
  "kernelspec": {
   "display_name": "Python 3.8.13 ('jupyterlab')",
   "language": "python",
   "name": "python3"
  },
  "language_info": {
   "codemirror_mode": {
    "name": "ipython",
    "version": 3
   },
   "file_extension": ".py",
   "mimetype": "text/x-python",
   "name": "python",
   "nbconvert_exporter": "python",
   "pygments_lexer": "ipython3",
   "version": "3.8.13"
  },
  "orig_nbformat": 4,
  "vscode": {
   "interpreter": {
    "hash": "680acffb1b7dda0f89f86579d82e4a5b51bf963daab96489c3ef982a7727b824"
   }
  }
 },
 "nbformat": 4,
 "nbformat_minor": 2
}
