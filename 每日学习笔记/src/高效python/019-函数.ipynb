{
 "cells": [
  {
   "cell_type": "markdown",
   "metadata": {},
   "source": [
    "# 关于函数\n",
    "## 1 函数返回值个数大于3时\n",
    "当函数返回值个数大于三个的时候，为了避免混乱，和方便后期调试，建议定义一个轻便的类或者namedtuple，并让函数返回这样的实例\n",
    "\n",
    "## 2 try/except的异常处理不要只返回None\n",
    "函数遇到意外情况，应该抛异常，而不是返回None"
   ]
  },
  {
   "cell_type": "code",
   "execution_count": 6,
   "metadata": {},
   "outputs": [
    {
     "name": "stdout",
     "output_type": "stream",
     "text": [
      "Invalid inputs\n",
      "Invalid inputs\n"
     ]
    }
   ],
   "source": [
    "# 返回值尽量不要使用None\n",
    "def careful_divide(a, b):\n",
    "    try:\n",
    "        return a / b\n",
    "    except ZeroDivisionError:\n",
    "        return None\n",
    "\n",
    "x, y = 5, 0\n",
    "result = careful_divide(x, y)\n",
    "# 这里可以区分返回值为0的情况，但是返回值一般是下面的判断方式\n",
    "if result is None:\n",
    "    print('Invalid inputs')\n",
    "else:\n",
    "    print('Result is %.1f' % result)\n",
    "\n",
    "x, y = 0, 5\n",
    "result = careful_divide(x, y)\n",
    "# 无法区分None和0\n",
    "if not result:\n",
    "    print('Invalid inputs')  # This runs! But shouldn't\n",
    "else:\n",
    "    assert False"
   ]
  },
  {
   "cell_type": "code",
   "execution_count": 4,
   "metadata": {},
   "outputs": [
    {
     "name": "stdout",
     "output_type": "stream",
     "text": [
      "Invalid inputs\n",
      "Invalid inputs\n"
     ]
    }
   ],
   "source": [
    "# 返回值，第一表示是否成功，第二个表示计算结果\n",
    "def careful_divide(a, b):\n",
    "    try:\n",
    "        return True, a / b\n",
    "    except ZeroDivisionError:\n",
    "        return False, None\n",
    "\n",
    "x, y = 5, 0\n",
    "success, result = careful_divide(x, y)\n",
    "if not success:\n",
    "    print('Invalid inputs')\n",
    "\n",
    "x, y = 0, 5\n",
    "# 但事实是，调用方往往会用下划线去忽略第一个值，此时又没法判断返回值时0的问题了\n",
    "_, result = careful_divide(x, y)\n",
    "if not result:\n",
    "    print('Invalid inputs')"
   ]
  },
  {
   "cell_type": "code",
   "execution_count": 8,
   "metadata": {},
   "outputs": [
    {
     "name": "stdout",
     "output_type": "stream",
     "text": [
      "Invalid inputs\n"
     ]
    }
   ],
   "source": [
    "# 外部用try/except里层抛出的异常，并处理\n",
    "def careful_divide(a, b):\n",
    "    try:\n",
    "        return a / b\n",
    "    except ZeroDivisionError as e:\n",
    "        raise ValueError('Invalid inputs')\n",
    "\n",
    "x, y = 5, 0\n",
    "try:\n",
    "    result = careful_divide(x, y)\n",
    "except ValueError:\n",
    "    print('Invalid inputs')\n",
    "else:\n",
    "    print('Result is %.1f' % result)"
   ]
  },
  {
   "cell_type": "code",
   "execution_count": 32,
   "metadata": {},
   "outputs": [
    {
     "name": "stdout",
     "output_type": "stream",
     "text": [
      "Invalid inputs\n"
     ]
    }
   ],
   "source": [
    "# 加函数注解，并编写docstring来把有可能的异常写入文档里\n",
    "def careful_divide(a: float, b: float) -> float: # 使用类型注解，规定返回值的类型\n",
    "    \"\"\"Divides a by b.\n",
    "    Raises:\n",
    "        ValueError: When the inputs cannot be divided.\n",
    "    \"\"\"\n",
    "    try:\n",
    "        return a / b\n",
    "    except ZeroDivisionError as e:\n",
    "        raise ValueError('Invalid inputs')\n",
    "\n",
    "x, y = 2, 0\n",
    "try:\n",
    "    result = careful_divide(x, y)\n",
    "except ValueError:\n",
    "    print('Invalid inputs')\n",
    "    pass  # Expected"
   ]
  },
  {
   "cell_type": "code",
   "execution_count": 3,
   "metadata": {},
   "outputs": [
    {
     "name": "stdout",
     "output_type": "stream",
     "text": [
      "(1, 2)\n",
      "1 2\n",
      "(1, 2, 3)\n",
      "1 2 3\n"
     ]
    }
   ],
   "source": [
    "def func(a, b):\n",
    "  return a, b\n",
    "a, b = 1, 2\n",
    "print(func(a,b))\n",
    "a, b = func(a,b)\n",
    "print(a,b)\n",
    "\n",
    "def func(a, b, c):\n",
    "  return (a,b,c)\n",
    "a, b, c = 1, 2, 3\n",
    "print(func(a,b,c))\n",
    "a, b, c = func(a,b,c)\n",
    "print(a,b,c)"
   ]
  },
  {
   "cell_type": "markdown",
   "metadata": {},
   "source": [
    "## 3 闭包作用域\n",
    "- 闭包函数可以引用外部变量\n",
    "- 闭包函数没法修改外部变量，需要使用nonlocal，模块内全局，区别于global的模块间全局\n",
    "- 尽量不要使用全局变量，使用一个类包装一下比较好\n"
   ]
  },
  {
   "cell_type": "code",
   "execution_count": 36,
   "metadata": {},
   "outputs": [
    {
     "name": "stdout",
     "output_type": "stream",
     "text": [
      "Found: False\n",
      "[2, 3, 5, 7, 1, 4, 6, 8]\n"
     ]
    }
   ],
   "source": [
    "def sort_priority2(numbers, group):\n",
    "    found = False\n",
    "    def helper(x):\n",
    "        if x in group:\n",
    "            found = True  # Seems simple，这里新建一个内部局部变量然后赋值了，不影响外部的变量\n",
    "            return (0, x)\n",
    "        return (1, x)\n",
    "    numbers.sort(key=helper)\n",
    "    return found\n",
    "\n",
    "numbers = [8, 3, 1, 2, 5, 4, 7, 6]\n",
    "group = {2, 3, 5, 7}\n",
    "found = sort_priority2(numbers, group)\n",
    "print('Found:', found) # False，出现了问题\n",
    "print(numbers)"
   ]
  },
  {
   "cell_type": "code",
   "execution_count": 34,
   "metadata": {},
   "outputs": [
    {
     "name": "stdout",
     "output_type": "stream",
     "text": [
      "True\n",
      "[2, 3, 5, 7, 1, 4, 6, 8]\n"
     ]
    }
   ],
   "source": [
    "def sort_priority3(numbers, group):\n",
    "    found = False\n",
    "    def helper(x):\n",
    "        nonlocal found  # Added\n",
    "        if x in group:\n",
    "            found = True\n",
    "            return (0, x)\n",
    "        return (1, x)\n",
    "    numbers.sort(key=helper)\n",
    "    return found\n",
    "\n",
    "numbers = [8, 3, 1, 2, 5, 4, 7, 6]\n",
    "group = {2, 3, 5, 7}\n",
    "found = sort_priority3(numbers, group)\n",
    "print(found)\n",
    "print(numbers)"
   ]
  },
  {
   "cell_type": "code",
   "execution_count": 37,
   "metadata": {},
   "outputs": [],
   "source": [
    "numbers = [8, 3, 1, 2, 5, 4, 7, 6]\n",
    "group = {2, 3, 5, 7}\n",
    "class Sorter:\n",
    "    def __init__(self, group):\n",
    "        self.group = group\n",
    "        self.found = False\n",
    "\n",
    "    def __call__(self, x):\n",
    "        if x in self.group:\n",
    "            self.found = True\n",
    "            return (0, x)\n",
    "        return (1, x)\n",
    "\n",
    "sorter = Sorter(group)\n",
    "numbers.sort(key=sorter) # 调用了call方法\n",
    "assert sorter.found is True\n",
    "assert numbers == [2, 3, 5, 7, 1, 4, 6, 8]"
   ]
  }
 ],
 "metadata": {
  "kernelspec": {
   "display_name": "Python 3.8.13 ('jupyterlab')",
   "language": "python",
   "name": "python3"
  },
  "language_info": {
   "codemirror_mode": {
    "name": "ipython",
    "version": 3
   },
   "file_extension": ".py",
   "mimetype": "text/x-python",
   "name": "python",
   "nbconvert_exporter": "python",
   "pygments_lexer": "ipython3",
   "version": "3.8.13"
  },
  "orig_nbformat": 4,
  "vscode": {
   "interpreter": {
    "hash": "680acffb1b7dda0f89f86579d82e4a5b51bf963daab96489c3ef982a7727b824"
   }
  }
 },
 "nbformat": 4,
 "nbformat_minor": 2
}
