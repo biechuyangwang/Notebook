{
 "cells": [
  {
   "cell_type": "markdown",
   "metadata": {},
   "source": [
    "# 函数参数\n",
    "## 1 位置参数(positional argument)\n",
    "- 固定数量位置参数\n",
    "- 可变数量位置参数(varargs/star args/*args)\n",
    "## 2 关键字参数(keyword argument)\n",
    "优点：可读性更强、可以带默认值\n",
    "注意：关键字参数总是应该通过参数名而不是位置来传递（如果不这么做会使可读性变差）\n",
    "- 固定数量关键字参数\n",
    "- 可变数量关键字参数(/**kwargs)\n",
    "## 3 默认值会变的参数\n",
    "使用None或docstring来描述默认值会变的参数\n",
    "## 4 清晰的参数列表\n",
    "使用只能以关键字指定和只能按位置传入的参数来设计清晰的参数列表"
   ]
  },
  {
   "cell_type": "code",
   "execution_count": 3,
   "metadata": {},
   "outputs": [
    {
     "name": "stdout",
     "output_type": "stream",
     "text": [
      "My numbers are: 1, 2\n",
      "Hi there\n"
     ]
    }
   ],
   "source": [
    "# 固定数量位置参数\n",
    "def log(message, values):\n",
    "    if not values:\n",
    "        print(message)\n",
    "    else:\n",
    "        values_str = ', '.join(str(x) for x in values)\n",
    "        print(f'{message}: {values_str}')\n",
    "\n",
    "log('My numbers are', [1, 2])\n",
    "log('Hi there', []) # 必须要传递一个参数，否则会报参数数量不匹配的错误"
   ]
  },
  {
   "cell_type": "code",
   "execution_count": 7,
   "metadata": {},
   "outputs": [
    {
     "name": "stdout",
     "output_type": "stream",
     "text": [
      "My numbers are: 1, 2\n",
      "Hi there\n",
      "Favorite colors: 7, 33, 99\n",
      "(0, 1, 2, 3, 4, 5, 6, 7, 8, 9)\n",
      "1 - Favorites: 7, 33\n",
      "1 - Hi there\n",
      "Favorite numbers - 7: 33\n"
     ]
    }
   ],
   "source": [
    "# *args 可变数量位置参数\n",
    "def log(message, *values):  # The only difference\n",
    "    if not values:\n",
    "        print(message)\n",
    "    else:\n",
    "        values_str = ', '.join(str(x) for x in values)\n",
    "        print(f'{message}: {values_str}')\n",
    "\n",
    "log('My numbers are', 1, 2)\n",
    "log('Hi there')  # Much better\n",
    "\n",
    "# 将已有序列当成参数传给函数，可以使用*操作符\n",
    "favorites = [7, 33, 99]\n",
    "log('Favorite colors', *favorites)\n",
    "\n",
    "# 但是会导致两个问题\n",
    "# - 1 这些参数会先转化为元组，也就意味着传递的是迭代器，必须迭代所有元素才能向下执行，会耗用大量内存\n",
    "def my_generator():\n",
    "    for i in range(10):\n",
    "        yield i\n",
    "\n",
    "def my_func(*args):\n",
    "    print(args)\n",
    "\n",
    "it = my_generator()\n",
    "my_func(*it)\n",
    "\n",
    "# - 2 使用*args后，又新增了位置参数，原有调用需要全部更新，不然都会报错\n",
    "def log(sequence, message, *values):\n",
    "    if not values:\n",
    "        print(f'{sequence} - {message}')\n",
    "    else:\n",
    "        values_str = ', '.join(str(x) for x in values)\n",
    "        print(f'{sequence} - {message}: {values_str}')\n",
    "\n",
    "log(1, 'Favorites', 7, 33)      # New with *args OK\n",
    "log(1, 'Hi there')              # New message only OK\n",
    "log('Favorite numbers', 7, 33)  # 旧调用出错"
   ]
  },
  {
   "cell_type": "code",
   "execution_count": 9,
   "metadata": {},
   "outputs": [
    {
     "name": "stdout",
     "output_type": "stream",
     "text": [
      "6\n",
      "6\n",
      "6\n",
      "6\n"
     ]
    }
   ],
   "source": [
    "# 固定数量关键字参数\n",
    "def remainder(number, divisor):\n",
    "    return number % divisor\n",
    "\n",
    "print(remainder(20, 7)) # 按照位置传递\n",
    "print(remainder(20, divisor=7)) # 混用时，位置参数在关键字参数前\n",
    "print(remainder(number=20, divisor=7)) # 关键字参数的顺序无所谓\n",
    "print(remainder(divisor=7, number=20))"
   ]
  },
  {
   "cell_type": "code",
   "execution_count": 12,
   "metadata": {},
   "outputs": [
    {
     "name": "stdout",
     "output_type": "stream",
     "text": [
      "alpha = 1.5\n",
      "beta = 9\n",
      "gamma = 4\n"
     ]
    }
   ],
   "source": [
    "# **kwargs 可变数量关键字参数\n",
    "\n",
    "# **运算符，可以把字典里面的键值以关键字参数的形式传递给函数 \n",
    "my_kwargs = {\n",
    "\t'number': 20,\n",
    "\t'divisor': 7,\n",
    "}\n",
    "assert remainder(**my_kwargs) == 6\n",
    "\n",
    "# 可以和位置参数混用，但是不要重复指定\n",
    "my_kwargs = {\n",
    "\t'divisor': 7,\n",
    "}\n",
    "assert remainder(number=20, **my_kwargs) == 6\n",
    "\n",
    "# 多个字典也可以，同样只要不重复指定就行\n",
    "my_kwargs = {\n",
    "\t'number': 20,\n",
    "}\n",
    "other_kwargs = {\n",
    "\t'divisor': 7,\n",
    "}\n",
    "assert remainder(**my_kwargs, **other_kwargs) == 6\n",
    "\n",
    "# 定义函数时，可以用万能形参**kwargs来接收参数到一个字典里备用\n",
    "def print_parameters(**kwargs):\n",
    "    for key, value in kwargs.items():\n",
    "        print(f'{key} = {value}')\n",
    "\n",
    "print_parameters(alpha=1.5, beta=9, gamma=4)"
   ]
  },
  {
   "cell_type": "code",
   "execution_count": 20,
   "metadata": {},
   "outputs": [
    {
     "name": "stdout",
     "output_type": "stream",
     "text": [
      "2022-11-18 05:44:42.832715: Hi there!\n",
      "2022-11-18 05:44:42.832715: Hello again!\n",
      "2022-11-18 05:44:42.945663: Hi there!\n",
      "2022-11-18 05:44:43.053837: Hello again!\n",
      "Help on function log in module __main__:\n",
      "\n",
      "log(message, when=None)\n",
      "    Log a message with a timestamp.\n",
      "    Args:\n",
      "        message: Message to print.\n",
      "        when: datetime of when the message occurred.\n",
      "            Defaults to the present time.\n",
      "\n"
     ]
    }
   ],
   "source": [
    "# 默认值会变的参数\n",
    "from time import sleep\n",
    "from datetime import datetime\n",
    "\n",
    "def log(message, when=datetime.now()):\n",
    "    print(f'{when}: {message}')\n",
    "\n",
    "log('Hi there!')\n",
    "sleep(0.1)\n",
    "log('Hello again!')\n",
    "# 形参只会计算一次\n",
    "# 2022-11-18 05:40:03.625367: Hi there!\n",
    "# 2022-11-18 05:40:03.625367: Hello again!\n",
    "\n",
    "# 默认值会变的参数，使用None赋值，并在docstring文档中说明接下来会怎么变化\n",
    "def log(message, when=None):\n",
    "    \"\"\"Log a message with a timestamp.\n",
    "    Args:\n",
    "        message: Message to print.\n",
    "        when: datetime of when the message occurred.\n",
    "            Defaults to the present time.\n",
    "    \"\"\"\n",
    "    if when is None:\n",
    "        when = datetime.now()\n",
    "    print(f'{when}: {message}')\n",
    "\n",
    "log('Hi there!')\n",
    "sleep(0.1)\n",
    "log('Hello again!')\n",
    "\n",
    "help(log) # 读取log的docstring"
   ]
  },
  {
   "cell_type": "code",
   "execution_count": 23,
   "metadata": {},
   "outputs": [
    {
     "name": "stdout",
     "output_type": "stream",
     "text": [
      "Foo: {'stuff': 5}\n",
      "Bar: {'meep': 1}\n"
     ]
    }
   ],
   "source": [
    "# 表示以后会被调用者修改的参数，初始化使用None\n",
    "import json\n",
    "\n",
    "def decode(data, default=None):\n",
    "    \"\"\"Load JSON data from a string.\n",
    "    Args:\n",
    "        data: JSON data to decode.\n",
    "        default: Value to return if decoding fails.\n",
    "            Defaults to an empty dictionary.\n",
    "    \"\"\"\n",
    "    try:\n",
    "        return json.loads(data)\n",
    "    except ValueError:\n",
    "        if default is None:\n",
    "            default = {}\n",
    "        return default\n",
    "\n",
    "foo = decode('bad data')\n",
    "foo['stuff'] = 5\n",
    "bar = decode('also bad')\n",
    "bar['meep'] = 1\n",
    "print('Foo:', foo)\n",
    "print('Bar:', bar)\n",
    "assert foo is not bar"
   ]
  },
  {
   "cell_type": "code",
   "execution_count": 30,
   "metadata": {},
   "outputs": [
    {
     "name": "stdout",
     "output_type": "stream",
     "text": [
      "3.1428571429\n",
      "3.14286\n",
      "3.14\n",
      "inf\n"
     ]
    },
    {
     "ename": "TypeError",
     "evalue": "safe_division_e() takes from 2 to 3 positional arguments but 4 positional arguments (and 1 keyword-only argument) were given",
     "output_type": "error",
     "traceback": [
      "\u001b[1;31m---------------------------------------------------------------------------\u001b[0m",
      "\u001b[1;31mTypeError\u001b[0m                                 Traceback (most recent call last)",
      "Cell \u001b[1;32mIn [30], line 32\u001b[0m\n\u001b[0;32m     29\u001b[0m result \u001b[39m=\u001b[39m safe_division_e(\u001b[39m22\u001b[39m, \u001b[39m0\u001b[39m, \u001b[39m2\u001b[39m, ignore_zero_division\u001b[39m=\u001b[39m\u001b[39mTrue\u001b[39;00m) \n\u001b[0;32m     30\u001b[0m \u001b[39mprint\u001b[39m(result)\n\u001b[1;32m---> 32\u001b[0m result \u001b[39m=\u001b[39m safe_division_e(\u001b[39m22\u001b[39;49m, \u001b[39m0\u001b[39;49m, \u001b[39m2\u001b[39;49m, \u001b[39mFalse\u001b[39;49;00m, ignore_zero_division\u001b[39m=\u001b[39;49m\u001b[39mTrue\u001b[39;49;00m) \n\u001b[0;32m     33\u001b[0m \u001b[39m# 报错，应该是2到3个位置参数，你传了4个\u001b[39;00m\n\u001b[0;32m     34\u001b[0m \u001b[39m# takes from 2 to 3 positional arguments but 4 positional arguments\u001b[39;00m\n",
      "\u001b[1;31mTypeError\u001b[0m: safe_division_e() takes from 2 to 3 positional arguments but 4 positional arguments (and 1 keyword-only argument) were given"
     ]
    }
   ],
   "source": [
    "# ‘/’前只能按位置传入（python3.8以后的新特性），‘*’后只能按关键字传入，中间的两种方式都可以\n",
    "def safe_division_e(numerator, denominator, /,\n",
    "                    ndigits=10, *,                # Changed\n",
    "                    ignore_overflow=False,\n",
    "                    ignore_zero_division=False):\n",
    "    try:\n",
    "        fraction = numerator / denominator        # Changed\n",
    "        return round(fraction, ndigits)           # Changed\n",
    "    except OverflowError:\n",
    "        if ignore_overflow:\n",
    "            return 0\n",
    "        else:\n",
    "            raise\n",
    "    except ZeroDivisionError:\n",
    "        if ignore_zero_division:\n",
    "            return float('inf')\n",
    "        else:\n",
    "            raise\n",
    "\n",
    "result = safe_division_e(22, 7)\n",
    "print(result)\n",
    "\n",
    "result = safe_division_e(22, 7, 5)\n",
    "print(result)\n",
    "\n",
    "result = safe_division_e(22, 7, ndigits=2)\n",
    "print(result)\n",
    "\n",
    "result = safe_division_e(22, 0, 2, ignore_zero_division=True) \n",
    "print(result)\n",
    "\n",
    "result = safe_division_e(22, 0, 2, False, ignore_zero_division=True) \n",
    "# 报错，应该是2到3个位置参数，你传了4个\n",
    "# takes from 2 to 3 positional arguments but 4 positional arguments"
   ]
  }
 ],
 "metadata": {
  "kernelspec": {
   "display_name": "Python 3.8.13 ('jupyterlab')",
   "language": "python",
   "name": "python3"
  },
  "language_info": {
   "codemirror_mode": {
    "name": "ipython",
    "version": 3
   },
   "file_extension": ".py",
   "mimetype": "text/x-python",
   "name": "python",
   "nbconvert_exporter": "python",
   "pygments_lexer": "ipython3",
   "version": "3.8.13"
  },
  "orig_nbformat": 4,
  "vscode": {
   "interpreter": {
    "hash": "680acffb1b7dda0f89f86579d82e4a5b51bf963daab96489c3ef982a7727b824"
   }
  }
 },
 "nbformat": 4,
 "nbformat_minor": 2
}
