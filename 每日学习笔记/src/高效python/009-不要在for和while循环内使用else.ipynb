{
 "cells": [
  {
   "cell_type": "markdown",
   "metadata": {},
   "source": [
    "# 条件语句\n",
    "## 1 else except finally的含义\n",
    "### 1.1 if/else\n",
    "没有执行if后面的语句，则执行else后面的语句\n",
    "### 1.2 try/except\n",
    "没有执行try后面的语句，则执行except后面的语句\n",
    "### 1.3 try/except/else\n",
    "执行try后面的语句，如果捕获异常则执行except后面的语句，如果没有异常需要处理则执行else后面的语句\n",
    "### 1.4 try/finally\n",
    "无论try执行结果如何，都执行finally后面的语句\n",
    "\n",
    "## 2 else不要用在for和while中，含义和上面的不同，容易出错"
   ]
  }
 ],
 "metadata": {
  "kernelspec": {
   "display_name": "Python 3.9.13 ('base')",
   "language": "python",
   "name": "python3"
  },
  "language_info": {
   "name": "python",
   "version": "3.9.13"
  },
  "orig_nbformat": 4,
  "vscode": {
   "interpreter": {
    "hash": "49cb93f377a7abe7414b7b0f21fb3017538004a126cf690fb524202736b7fb92"
   }
  }
 },
 "nbformat": 4,
 "nbformat_minor": 2
}
