{
 "cells": [
  {
   "cell_type": "markdown",
   "id": "266e246b-e44b-4c9d-8e1b-51d9ed0f48cd",
   "metadata": {},
   "source": [
    "# 2022/11/15\n",
    "## 2 js中的map、filter和reduce\n",
    "配合arrow函数可以取代大部分for循环\n",
    "### 2.1 map\n",
    "- 数组的每个元素进行map映射\n",
    "- 注意map是数组的内置函数"
   ]
  },
  {
   "cell_type": "code",
   "execution_count": 1,
   "id": "cebc302c-8196-4c24-a05e-b96adcc76d87",
   "metadata": {},
   "outputs": [
    {
     "name": "stdout",
     "output_type": "stream",
     "text": [
      "[\n",
      "  105,  32, 108, 111, 118,\n",
      "  101,  32, 106,  97, 118,\n",
      "   97, 115,  99, 114, 105,\n",
      "  112, 116\n",
      "]\n"
     ]
    }
   ],
   "source": [
    "let str = \"i love javascript\";\n",
    "let arr = str.split(\"\");\n",
    "let res = arr.map(item => item.charCodeAt());\n",
    "console.log(res);"
   ]
  },
  {
   "cell_type": "code",
   "execution_count": 2,
   "id": "035b2429-a178-4683-a01c-922c990d555e",
   "metadata": {},
   "outputs": [
    {
     "name": "stdout",
     "output_type": "stream",
     "text": [
      "[\n",
      "  'i', ' ', 'l', 'o', 'v',\n",
      "  'e', ' ', 'j', 'a', 'v',\n",
      "  'a', 's', 'c', 'r', 'i',\n",
      "  'p', 't'\n",
      "]\n"
     ]
    }
   ],
   "source": [
    "res = res.map(item => String.fromCharCode(item));\n",
    "console.log(res);"
   ]
  },
  {
   "cell_type": "code",
   "execution_count": 3,
   "id": "0fcb6483-52ff-4dd9-a0c0-906e13309f38",
   "metadata": {},
   "outputs": [
    {
     "name": "stdout",
     "output_type": "stream",
     "text": [
      "[\n",
      "  'i', 'l', 'o', 'v',\n",
      "  'e', 'j', 'a', 'v',\n",
      "  'a', 's', 'c', 'r',\n",
      "  'i', 'p', 't'\n",
      "]\n"
     ]
    }
   ],
   "source": [
    "res = res.filter(item => item != \" \");\n",
    "console.log(res);"
   ]
  },
  {
   "cell_type": "code",
   "execution_count": 4,
   "id": "291c7d7b-d720-4806-bc9b-7bbe4c5f8637",
   "metadata": {},
   "outputs": [
    {
     "name": "stdout",
     "output_type": "stream",
     "text": [
      "-ilovejavascript\n"
     ]
    }
   ],
   "source": [
    "res = res.reduce((pre, cur) => pre += cur,\"-\");\n",
    "console.log(res);"
   ]
  },
  {
   "cell_type": "code",
   "execution_count": 25,
   "id": "98384ed3-7c5e-4e1f-86af-829b46479bed",
   "metadata": {},
   "outputs": [
    {
     "name": "stdout",
     "output_type": "stream",
     "text": [
      "{ name: 'jj' } jj\n"
     ]
    }
   ],
   "source": [
    "let dictfunc = (a, b) => {\n",
    "    return {[a]:b}\n",
    "}\n",
    "res = dictfunc(\"name\",\"jj\");\n",
    "console.log(res,res[\"name\"]);"
   ]
  },
  {
   "cell_type": "code",
   "execution_count": null,
   "id": "7ea9ff29-c6e9-456b-8706-a89d4156f38e",
   "metadata": {},
   "outputs": [],
   "source": []
  }
 ],
 "metadata": {
  "kernelspec": {
   "display_name": "JavaScript (Node.js)",
   "language": "javascript",
   "name": "javascript"
  },
  "language_info": {
   "file_extension": ".js",
   "mimetype": "application/javascript",
   "name": "javascript",
   "version": "16.17.1"
  }
 },
 "nbformat": 4,
 "nbformat_minor": 5
}
