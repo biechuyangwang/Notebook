{
 "cells": [
  {
   "cell_type": "markdown",
   "id": "bba3f53e-8fef-4916-9185-e093d8001f3d",
   "metadata": {},
   "source": [
    "# 2022/11/15\n",
    "## 1 python中的map、filter和reduce\n",
    "配合lambda函数可以取代大部分for循环\n",
    "### 1.1 map\n",
    "- 迭代器的每个元素进行map映射"
   ]
  },
  {
   "cell_type": "code",
   "execution_count": 1,
   "id": "fb3ad38f-f31b-40c3-9be9-1f5007e2ce3e",
   "metadata": {},
   "outputs": [
    {
     "name": "stdout",
     "output_type": "stream",
     "text": [
      "[105, 32, 108, 111, 118, 101, 32, 112, 121, 116, 104, 111, 110]\n"
     ]
    }
   ],
   "source": [
    "# 字符串和ASCII码的转换\n",
    "str = \"i love python\"\n",
    "res = list(map(lambda x: ord(x), str))\n",
    "print(res)"
   ]
  },
  {
   "cell_type": "code",
   "execution_count": 2,
   "id": "692ee259-77e8-4d0d-b973-ae24513b1211",
   "metadata": {},
   "outputs": [
    {
     "name": "stdout",
     "output_type": "stream",
     "text": [
      "i love python\n"
     ]
    }
   ],
   "source": [
    "res = ''.join(map(lambda x: chr(x), res))\n",
    "print(res)"
   ]
  },
  {
   "cell_type": "markdown",
   "id": "08b55ab7-dbad-4784-9ec9-df8dec5e725c",
   "metadata": {},
   "source": [
    "### 1.2 filter\n",
    "- 迭代器的每个元素判断是否保留"
   ]
  },
  {
   "cell_type": "code",
   "execution_count": 3,
   "id": "43adc39c-7c58-43b3-bb68-9c7476890683",
   "metadata": {},
   "outputs": [
    {
     "name": "stdout",
     "output_type": "stream",
     "text": [
      "[11, 22, 33, 44, 55]\n"
     ]
    }
   ],
   "source": [
    "# 不及格的挑出来打一顿\n",
    "score = [11,22,33,44,55,66,77,88,99]\n",
    "res = list(filter(lambda x: x<60,score))\n",
    "print(res)"
   ]
  },
  {
   "cell_type": "markdown",
   "id": "c100e8b5-8b04-436d-b33e-b8d5129486f0",
   "metadata": {},
   "source": [
    "### 1.3 reduce\n",
    "- 将迭代器的一个元素和上一次的结果做运算\n",
    "- 如果不指定初始值，第一次取两个元素"
   ]
  },
  {
   "cell_type": "code",
   "execution_count": 4,
   "id": "9e7cfe3f-2350-46f4-88a5-cf5ea0a17234",
   "metadata": {},
   "outputs": [
    {
     "name": "stdout",
     "output_type": "stream",
     "text": [
      "10\n"
     ]
    }
   ],
   "source": [
    "# 列表求和\n",
    "from functools import reduce\n",
    "res = reduce(lambda x,y: x+y,[1,2,3,4])\n",
    "print(res)"
   ]
  },
  {
   "cell_type": "code",
   "execution_count": 5,
   "id": "b69a68df-b5b7-400e-bc3e-b506108710e9",
   "metadata": {},
   "outputs": [
    {
     "name": "stdout",
     "output_type": "stream",
     "text": [
      "20\n"
     ]
    }
   ],
   "source": [
    "res = reduce(lambda x,y: x+y,[1,2,3,4],10)\n",
    "print(res)"
   ]
  },
  {
   "cell_type": "markdown",
   "id": "40b92a10-c850-46d6-9bd8-f2eae62f31fa",
   "metadata": {},
   "source": [
    "### 1.4 lambda\n",
    "- 匿名函数"
   ]
  },
  {
   "cell_type": "code",
   "execution_count": 6,
   "id": "75c0804b-ae85-4916-af6a-e64d34386f76",
   "metadata": {},
   "outputs": [
    {
     "name": "stdout",
     "output_type": "stream",
     "text": [
      "{'t_aa': 22, 't_bb': 44, 't_cc': 66}\n"
     ]
    }
   ],
   "source": [
    "# 统一修改dict的键值\n",
    "# 通过tuple列表的方式来返回多个参数\n",
    "info = {\n",
    "    \"aa\":11,\n",
    "    \"bb\":22,\n",
    "    \"cc\":33,\n",
    "}\n",
    "res = dict(map(lambda x:('t_'+x, 2*info[x]), info))\n",
    "print(res)"
   ]
  },
  {
   "cell_type": "markdown",
   "id": "d3460cc1-0cff-41f0-95c7-84deab88a045",
   "metadata": {},
   "source": [
    "# 一些关于jupyterlab的新手向教程\n",
    "## 1 查看用的哪个运行环境  "
   ]
  },
  {
   "cell_type": "code",
   "execution_count": 14,
   "id": "31c0200a-6079-4daa-829c-ae39fc64f0f4",
   "metadata": {},
   "outputs": [
    {
     "name": "stdout",
     "output_type": "stream",
     "text": [
      "3.8.13 (default, Oct 19 2022, 22:38:03) [MSC v.1916 64 bit (AMD64)]\n",
      "D:\\anaconda3\\envs\\jupyterlab\\python.exe\n"
     ]
    }
   ],
   "source": [
    "import sys\n",
    "print(sys.version)\n",
    "print(sys.executable)"
   ]
  },
  {
   "cell_type": "markdown",
   "id": "c28f1b6a-de51-4d56-be45-03671d0f8105",
   "metadata": {},
   "source": [
    "## 2 安装python包\n",
    "### 2.1 使用'!'安装\n",
    "相当于在命令行执行命令"
   ]
  },
  {
   "cell_type": "code",
   "execution_count": 15,
   "id": "31c8fbe7-5364-4567-9572-ce9c92a740e5",
   "metadata": {},
   "outputs": [
    {
     "name": "stdout",
     "output_type": "stream",
     "text": [
      "Looking in indexes: https://pypi.tuna.tsinghua.edu.cn/simple\n",
      "Collecting numpy\n",
      "  Using cached https://pypi.tuna.tsinghua.edu.cn/packages/a9/23/646b2bb081b25e8c6e2495fc1ddcea2ad89b5fdff194a9d1e8eb55cc1a6d/numpy-1.23.4-cp38-cp38-win_amd64.whl (14.7 MB)\n",
      "Installing collected packages: numpy\n",
      "Successfully installed numpy-1.23.4\n"
     ]
    }
   ],
   "source": [
    "!pip install numpy"
   ]
  },
  {
   "cell_type": "markdown",
   "id": "d66d7555-549f-4f03-9223-ef0310c0733e",
   "metadata": {},
   "source": [
    "### 2.2 使用'%'安装"
   ]
  },
  {
   "cell_type": "code",
   "execution_count": null,
   "id": "363b7a04-cce0-4c64-90f3-3c3841c8ab5f",
   "metadata": {},
   "outputs": [],
   "source": [
    "%pip install matplotlib"
   ]
  },
  {
   "cell_type": "code",
   "execution_count": null,
   "id": "b2027c42-1660-4042-8dda-74063b54cddb",
   "metadata": {},
   "outputs": [],
   "source": [
    "!pip list"
   ]
  },
  {
   "cell_type": "code",
   "execution_count": 20,
   "id": "3496c340-a8bb-4fcd-af0b-b016df8c7b4a",
   "metadata": {},
   "outputs": [],
   "source": [
    "import numpy as np\n",
    "import matplotlib"
   ]
  },
  {
   "cell_type": "code",
   "execution_count": 5,
   "id": "4971f8bd-97e8-4ac2-b7b4-51c58655efed",
   "metadata": {},
   "outputs": [
    {
     "data": {
      "application/json": {
       "cell": {
        "!": "OSMagics",
        "HTML": "Other",
        "SVG": "Other",
        "bash": "Other",
        "capture": "ExecutionMagics",
        "cmd": "Other",
        "debug": "ExecutionMagics",
        "file": "Other",
        "html": "DisplayMagics",
        "javascript": "DisplayMagics",
        "js": "DisplayMagics",
        "latex": "DisplayMagics",
        "markdown": "DisplayMagics",
        "perl": "Other",
        "prun": "ExecutionMagics",
        "pypy": "Other",
        "python": "Other",
        "python2": "Other",
        "python3": "Other",
        "ruby": "Other",
        "script": "ScriptMagics",
        "sh": "Other",
        "svg": "DisplayMagics",
        "sx": "OSMagics",
        "system": "OSMagics",
        "time": "ExecutionMagics",
        "timeit": "ExecutionMagics",
        "writefile": "OSMagics"
       },
       "line": {
        "alias": "OSMagics",
        "alias_magic": "BasicMagics",
        "autoawait": "AsyncMagics",
        "autocall": "AutoMagics",
        "automagic": "AutoMagics",
        "autosave": "KernelMagics",
        "bookmark": "OSMagics",
        "cd": "OSMagics",
        "clear": "KernelMagics",
        "cls": "KernelMagics",
        "colors": "BasicMagics",
        "conda": "PackagingMagics",
        "config": "ConfigMagics",
        "connect_info": "KernelMagics",
        "copy": "Other",
        "ddir": "Other",
        "debug": "ExecutionMagics",
        "dhist": "OSMagics",
        "dirs": "OSMagics",
        "doctest_mode": "BasicMagics",
        "echo": "Other",
        "ed": "Other",
        "edit": "KernelMagics",
        "env": "OSMagics",
        "gui": "BasicMagics",
        "hist": "Other",
        "history": "HistoryMagics",
        "killbgscripts": "ScriptMagics",
        "ldir": "Other",
        "less": "KernelMagics",
        "load": "CodeMagics",
        "load_ext": "ExtensionMagics",
        "loadpy": "CodeMagics",
        "logoff": "LoggingMagics",
        "logon": "LoggingMagics",
        "logstart": "LoggingMagics",
        "logstate": "LoggingMagics",
        "logstop": "LoggingMagics",
        "ls": "Other",
        "lsmagic": "BasicMagics",
        "macro": "ExecutionMagics",
        "magic": "BasicMagics",
        "matplotlib": "PylabMagics",
        "mkdir": "Other",
        "more": "KernelMagics",
        "notebook": "BasicMagics",
        "page": "BasicMagics",
        "pastebin": "CodeMagics",
        "pdb": "ExecutionMagics",
        "pdef": "NamespaceMagics",
        "pdoc": "NamespaceMagics",
        "pfile": "NamespaceMagics",
        "pinfo": "NamespaceMagics",
        "pinfo2": "NamespaceMagics",
        "pip": "PackagingMagics",
        "popd": "OSMagics",
        "pprint": "BasicMagics",
        "precision": "BasicMagics",
        "prun": "ExecutionMagics",
        "psearch": "NamespaceMagics",
        "psource": "NamespaceMagics",
        "pushd": "OSMagics",
        "pwd": "OSMagics",
        "pycat": "OSMagics",
        "pylab": "PylabMagics",
        "qtconsole": "KernelMagics",
        "quickref": "BasicMagics",
        "recall": "HistoryMagics",
        "rehashx": "OSMagics",
        "reload_ext": "ExtensionMagics",
        "ren": "Other",
        "rep": "Other",
        "rerun": "HistoryMagics",
        "reset": "NamespaceMagics",
        "reset_selective": "NamespaceMagics",
        "rmdir": "Other",
        "run": "ExecutionMagics",
        "save": "CodeMagics",
        "sc": "OSMagics",
        "set_env": "OSMagics",
        "store": "StoreMagics",
        "sx": "OSMagics",
        "system": "OSMagics",
        "tb": "ExecutionMagics",
        "time": "ExecutionMagics",
        "timeit": "ExecutionMagics",
        "unalias": "OSMagics",
        "unload_ext": "ExtensionMagics",
        "who": "NamespaceMagics",
        "who_ls": "NamespaceMagics",
        "whos": "NamespaceMagics",
        "xdel": "NamespaceMagics",
        "xmode": "BasicMagics"
       }
      },
      "text/plain": [
       "Available line magics:\n",
       "%alias  %alias_magic  %autoawait  %autocall  %automagic  %autosave  %bookmark  %cd  %clear  %cls  %colors  %conda  %config  %connect_info  %copy  %ddir  %debug  %dhist  %dirs  %doctest_mode  %echo  %ed  %edit  %env  %gui  %hist  %history  %killbgscripts  %ldir  %less  %load  %load_ext  %loadpy  %logoff  %logon  %logstart  %logstate  %logstop  %ls  %lsmagic  %macro  %magic  %matplotlib  %mkdir  %more  %notebook  %page  %pastebin  %pdb  %pdef  %pdoc  %pfile  %pinfo  %pinfo2  %pip  %popd  %pprint  %precision  %prun  %psearch  %psource  %pushd  %pwd  %pycat  %pylab  %qtconsole  %quickref  %recall  %rehashx  %reload_ext  %ren  %rep  %rerun  %reset  %reset_selective  %rmdir  %run  %save  %sc  %set_env  %store  %sx  %system  %tb  %time  %timeit  %unalias  %unload_ext  %who  %who_ls  %whos  %xdel  %xmode\n",
       "\n",
       "Available cell magics:\n",
       "%%!  %%HTML  %%SVG  %%bash  %%capture  %%cmd  %%debug  %%file  %%html  %%javascript  %%js  %%latex  %%markdown  %%perl  %%prun  %%pypy  %%python  %%python2  %%python3  %%ruby  %%script  %%sh  %%svg  %%sx  %%system  %%time  %%timeit  %%writefile\n",
       "\n",
       "Automagic is ON, % prefix IS NOT needed for line magics."
      ]
     },
     "execution_count": 5,
     "metadata": {},
     "output_type": "execute_result"
    }
   ],
   "source": [
    "%lsmagic"
   ]
  },
  {
   "cell_type": "code",
   "execution_count": null,
   "id": "65f53cf3-7bee-4e8f-9f90-1a6cb3b592ef",
   "metadata": {},
   "outputs": [],
   "source": []
  }
 ],
 "metadata": {
  "kernelspec": {
   "display_name": "Python 3 (ipykernel)",
   "language": "python",
   "name": "python3"
  },
  "language_info": {
   "codemirror_mode": {
    "name": "ipython",
    "version": 3
   },
   "file_extension": ".py",
   "mimetype": "text/x-python",
   "name": "python",
   "nbconvert_exporter": "python",
   "pygments_lexer": "ipython3",
   "version": "3.8.13"
  }
 },
 "nbformat": 4,
 "nbformat_minor": 5
}
