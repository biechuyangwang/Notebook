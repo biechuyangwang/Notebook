{
 "cells": [
  {
   "cell_type": "code",
   "execution_count": 3,
   "metadata": {},
   "outputs": [
    {
     "name": "stdout",
     "output_type": "stream",
     "text": [
      "--Hello World--\n",
      "--hello 'wrold'--\n",
      "--'hello' \"world\"--\n",
      "--'hello' world--\n"
     ]
    }
   ],
   "source": [
    "# str属于序列类型\n",
    "# 字符串输出\n",
    "print('--Hello World--')\n",
    "print(\"--hello 'wrold'--\")\n",
    "print('''--'hello' \"world\"--''')\n",
    "print(f\"--hello world--\")"
   ]
  },
  {
   "cell_type": "code",
   "execution_count": 18,
   "metadata": {},
   "outputs": [
    {
     "name": "stdout",
     "output_type": "stream",
     "text": [
      "1\n",
      "[2]\n",
      "[1]\n",
      "1672846095.6387322\n",
      "1672846095.6387322\n",
      "1672846097.641424\n",
      "1672846099.6572738\n"
     ]
    }
   ],
   "source": [
    "# 插一段引用传递\n",
    "# 不可变类型，例如数字、字符串、元组是值传递\n",
    "# 可变类型，例如列表、字典是引用传递\n",
    "# 其中可变类型可以改变值，不能重新赋值\n",
    "a = 1\n",
    "def f1(a):\n",
    "    a += 1\n",
    "f1(a)\n",
    "print(a) # 数组不可变\n",
    "# 1\n",
    "\n",
    "b = [1]\n",
    "def f2(a):\n",
    "    a[0] += 1\n",
    "f2(b)\n",
    "print(b) # 列表可变\n",
    "# [2]\n",
    "\n",
    "c = [1]\n",
    "def f3(a):\n",
    "    a = [1,2,3]\n",
    "f3(c)\n",
    "print(c) # 直接修改了内部a的地址，并没有修改外部c的内容\n",
    "# [1] \n",
    "\n",
    "import time\n",
    "def f4(a=time.time()):\n",
    "    print(f\"{a}\")\n",
    "f4()\n",
    "time.sleep(2)\n",
    "f4() # 字符串为不可变\n",
    "# 1672846095.6387322\n",
    "# 1672846095.6387322\n",
    "\n",
    "def f5(a=None): # None是可变的\n",
    "    a = time.time()\n",
    "    print(f\"{a}\")\n",
    "f5()\n",
    "time.sleep(2)\n",
    "f5()\n",
    "# 1672846097.641424\n",
    "# 1672846099.6572738"
   ]
  },
  {
   "cell_type": "code",
   "execution_count": 21,
   "metadata": {},
   "outputs": [
    {
     "name": "stdout",
     "output_type": "stream",
     "text": [
      "0\n",
      "12\n",
      "01\n",
      "024\n",
      "012345678\n",
      "6789\n",
      "0123456789\n",
      "9876543210\n",
      "01234567890123456789\n",
      "'123'在字符串0123456789中\n",
      "10\n",
      "1.23\n",
      "99\n",
      "c\n"
     ]
    }
   ],
   "source": [
    "# 接着字符串的基本使用\n",
    "s = \"0123456789\"\n",
    "print(s[0]) # 下标访问 0\n",
    "print(s[1:3]) # 切片，左闭有开 12\n",
    "print(s[:2]) # 切片 01\n",
    "print(s[:5:2]) # 间隔切片 024\n",
    "print(s[:-1]) # 切片，舍去最后一位 012345678\n",
    "print(s[-4:]) # 切片，最后四位 6789\n",
    "print(s[-100:100]) # 首尾超过有效范围则取首尾 0123456789\n",
    "print(s[::-1]) # 反转字符串\n",
    "print(2*s) # 复制字符串\n",
    "\n",
    "if \"123\" in s:\n",
    "    print(f\"'123'在字符串{s}中\")\n",
    "else:\n",
    "    print(f\"'123'不在字符串{s}中\")\n",
    "\n",
    "print(len(s)) # s的长度 10\n",
    "print(str(\"1.23\")) # 强转字符串\n",
    "print(ord('c')) # unicode -> 数字\n",
    "print(chr(99)) # 数字 -> unicode\n"
   ]
  },
  {
   "cell_type": "code",
   "execution_count": 41,
   "metadata": {},
   "outputs": [
    {
     "name": "stdout",
     "output_type": "stream",
     "text": [
      "one world, one dream!\n",
      "ONE WORLD, ONE DREAM!\n",
      "1\n",
      "One life, one dream!\n",
      "====One world, one dream!=====\n",
      "ne world, one dream\n",
      "1+2+3+4\n",
      "0123.500\n"
     ]
    }
   ],
   "source": [
    "# 字符串处理方法\n",
    "t = \"One world, one dream!\"\n",
    "print(t.lower()) # 全部小写 one world, one dream!\n",
    "print(t.upper()) # 全部大写 ONE WORLD, ONE DREAM!\n",
    "print(t.count(\"one\")) # 计算某个字符串出现的次数 1\n",
    "print(t.replace(\"world\", \"life\")) # world字符串全部替换为life\n",
    "print(t.center(30,\"=\")) # 字符串居中，两侧用=填充 ====One world, one dream!=====\n",
    "print(t.strip(\"!O\")) # 首尾去掉包含的字符，一般用来去空白符 ne world, one dream\n",
    "print(\"+\".join(\"1234\")) # 字符串用+隔开 1+2+3+4\n",
    "t = 123.45\n",
    "print(f\"{t:^08.1f}\") # ^居中 08.1f保留一位有效小数，共8位，不够用0填充"
   ]
  }
 ],
 "metadata": {
  "kernelspec": {
   "display_name": "jupyterlab",
   "language": "python",
   "name": "python3"
  },
  "language_info": {
   "codemirror_mode": {
    "name": "ipython",
    "version": 3
   },
   "file_extension": ".py",
   "mimetype": "text/x-python",
   "name": "python",
   "nbconvert_exporter": "python",
   "pygments_lexer": "ipython3",
   "version": "3.8.13"
  },
  "orig_nbformat": 4,
  "vscode": {
   "interpreter": {
    "hash": "680acffb1b7dda0f89f86579d82e4a5b51bf963daab96489c3ef982a7727b824"
   }
  }
 },
 "nbformat": 4,
 "nbformat_minor": 2
}
