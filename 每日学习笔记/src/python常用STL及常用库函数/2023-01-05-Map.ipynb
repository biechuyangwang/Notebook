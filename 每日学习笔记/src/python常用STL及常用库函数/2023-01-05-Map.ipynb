{
 "cells": [
  {
   "cell_type": "code",
   "execution_count": 3,
   "metadata": {},
   "outputs": [
    {
     "name": "stdout",
     "output_type": "stream",
     "text": [
      "SortedDict({'hh': 18, 'lj': 27, 'other': 20})\n",
      "27\n",
      "None\n",
      "27\n",
      "{'hh': 18, 'lj': 27, 'other': 20}\n",
      "('lj', 27)\n",
      "('other', 20)\n",
      "hh:18, lj:27, other:20, \n",
      "hh:18, lj:27, other:20, \n",
      "18, 27, 20, \n",
      "other\n",
      "20\n",
      "False\n",
      "SortedDict({'a': 1, 'c1': 2, 'c2': 4, 'hh': 18, 'lj': 27, 'other': 20})\n",
      "1\n",
      "2\n",
      "0\n",
      "True\n"
     ]
    }
   ],
   "source": [
    "from sortedcontainers import SortedDict\n",
    "sd = SortedDict()\n",
    "# 插入、删除元素\n",
    "sd[\"lj\"] = 27\n",
    "sd[\"hh\"] = 18\n",
    "sd[\"other\"] = 20\n",
    "print(sd)  # SortedDict({'hh': 18, 'lj': 27, 'other': 20})\n",
    "print(sd[\"lj\"])  # 访问不存在的键会报错, KeyError\n",
    "print(sd.get(\"c\"))  # 更安全的访问方式 None\n",
    "print(sd.get(\"lj\"))\n",
    "print(dict(sd))  # {'hh': 18, 'lj': 27, 'other': 20}\n",
    "\n",
    "print(sd.peekitem(1))  # 类型tuple, 返回第n个元素    ('lj', 27)\n",
    "print(sd.peekitem())  # 类型tuple, 返回最后一个元素    ('other', 20)\n",
    "# 遍历\n",
    "for k, v in sd.items():\n",
    "    print(k, ':', v, sep=\"\", end=\", \")  # sep取消每行输出之间的空格\n",
    "print()\n",
    "for k in sd:  # 遍历键k, 等价于for k in d.keys:\n",
    "    print(str(k) + \":\" + str(sd[k]), end=\", \")\n",
    "print()\n",
    "for v in sd.values():  # 遍历值v\n",
    "    print(v, end=\", \")\n",
    "print()\n",
    "# 返回Map中的一个键\n",
    "print(sd.peekitem()[0]) # other\n",
    "# 返回Map中的一个值\n",
    "print(sd.peekitem()[1]) # 20\n",
    "# 中判断某元素是否存在\n",
    "print(\"lj\" in sd)  # True\n",
    "# bisect_left() / bisect_right()\n",
    "sd[\"a\"] = 1\n",
    "sd[\"c1\"] = 2\n",
    "sd[\"c2\"] = 4\n",
    "print(sd)  # SortedDict({'a': 1, 'c1': 2, 'c2': 4, 'hh': 18, 'lj': 27, 'other': 20})\n",
    "print(sd.bisect_left(\"c1\"))  # 返回键大于等于\"c1\"的最小元素对应的下标    1\n",
    "print(sd.bisect_right(\"c1\"))  # 返回键大于\"c1\"的最小元素对应的下标    2\n",
    "# 清空\n",
    "sd.clear()\n",
    "print(len(sd))  # 0\n",
    "print(len(sd) == 0)  # True"
   ]
  },
  {
   "cell_type": "code",
   "execution_count": 5,
   "metadata": {},
   "outputs": [
    {
     "name": "stdout",
     "output_type": "stream",
     "text": [
      "27\n",
      "14\n",
      "15\n",
      "True\n",
      "dict_keys(['c1', 'c2', 'hh', 'lj', 13, 'future'])\n",
      "dict_values([2, 4, 18, 27, 15, 'wonderful'])\n",
      "dict_items([('c1', 2), ('c2', 4), ('hh', 18), ('lj', 27), (13, 15), ('future', 'wonderful')])\n",
      "c1 : 2\n",
      "c2 : 4\n",
      "hh : 18\n",
      "lj : 27\n",
      "13 : 15\n",
      "future : wonderful\n",
      "c1:2, c2:4, hh:18, lj:27, 13:15, future:wonderful, \n",
      "2, 4, 18, 27, 15, wonderful, \n",
      "---------------------------------------\n",
      "3\n",
      "北京\n",
      "不存在\n",
      "None\n",
      "Washington\n",
      "('法国', '巴黎')\n"
     ]
    }
   ],
   "source": [
    "# 无序map：dict\n",
    "d = {\"c1\": 2, \"c2\": 4, \"hh\": 18, \"lj\": 27, 13: 14, 1: 0}\n",
    "print(d[\"lj\"])  # 27\n",
    "print(d[13])  # 14\n",
    "d[13] += 1\n",
    "print(d[13])  # 15\n",
    "d[\"future\"] = \"wonderful\"  # 字典中添加键值对\n",
    "del d[1]  # 删除字典d中键1对应的数据值\n",
    "print(\"lj\" in d)  # 判断键\"wxx\"是否在字典d中，如果在返回True，否则False\n",
    "print(d.keys())  # 返回字典d中所有的键信息  dict_keys(['c1', 'c2', 'hh', 'lj', 13, 'future'])\n",
    "print(d.values())  # 返回字典d中所有的值信息  dict_values([2, 4, 18, 27, 15, 'wonderful'])\n",
    "print(d.items())  # dict_items([('c1', 2), ('c2', 4), ('hh', 18), ('lj', 27), (13, 15), ('future', 'wonderful')])\n",
    "for k, v in d.items():  # 遍历 k, v\n",
    "    print(k, ':', v)\n",
    "for k in d:  # 遍历键k, 等价于for k in d.keys:\n",
    "    print(str(k) + \":\" + str(d[k]), end=\", \")\n",
    "print()\n",
    "for v in d.values():  # 遍历值v\n",
    "    print(v, end=\", \")\n",
    "print()\n",
    "\n",
    "# 字典类型操作函数和方法\n",
    "print(\"---------------------------------------\")\n",
    "d = {\"中国\": \"北京\", \"美国\": \"华盛顿\", \"法国\": \"巴黎\"}\n",
    "print(len(d))  # 返回字典d中元素的个数  3\n",
    "print(d.get(\"中国\", \"不存在\"))  # 键k存在，则返回相应值，不在则返回<default>值  北京\n",
    "print(d.get(\"中\", \"不存在\"))  # 不存在\n",
    "print(d.get(\"中\"))  # None\n",
    "d[\"美国\"] = \"Washington\"  # 修改键对应的值\n",
    "print(d.pop(\"美国\"))  # 键k存在，则返回相应值，并将其从dict中删除\n",
    "print(d.popitem())  # 随机从字典d中取出一个键值对，以元组形式返回，并将其从dict中删除\n",
    "d.clear()  # 删除所有的键值对"
   ]
  }
 ],
 "metadata": {
  "kernelspec": {
   "display_name": "jupyterlab",
   "language": "python",
   "name": "python3"
  },
  "language_info": {
   "codemirror_mode": {
    "name": "ipython",
    "version": 3
   },
   "file_extension": ".py",
   "mimetype": "text/x-python",
   "name": "python",
   "nbconvert_exporter": "python",
   "pygments_lexer": "ipython3",
   "version": "3.8.13"
  },
  "orig_nbformat": 4,
  "vscode": {
   "interpreter": {
    "hash": "680acffb1b7dda0f89f86579d82e4a5b51bf963daab96489c3ef982a7727b824"
   }
  }
 },
 "nbformat": 4,
 "nbformat_minor": 2
}
