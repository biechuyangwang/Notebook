{
 "cells": [
  {
   "cell_type": "code",
   "execution_count": 4,
   "metadata": {},
   "outputs": [
    {
     "name": "stdout",
     "output_type": "stream",
     "text": [
      "[1, 2, 'hi', (2, 3)] [[0, 1, 2], [1, 2, 3]]\n",
      "True\n",
      "False\n",
      "[1, 2, 'hi', (2, 3), [0, 1, 2], [1, 2, 3]]\n",
      "[1, 2, 'hi', (2, 3), 1, 2, 'hi', (2, 3)]\n",
      "hi\n",
      "[2, 'hi']\n",
      "4\n",
      "[0, 1, 2]\n",
      "[1, 2, 3]\n",
      "1\n",
      "0\n"
     ]
    }
   ],
   "source": [
    "# List属于可变序列类型\n",
    "# List的创建\n",
    "s = [1, 2, \"hi\", (2, 3)] # 或者s = list([1, 2, \"hi\", (2, 3)])\n",
    "t = [[i+j for j in range(3)] for i in range(2)]\n",
    "print(s,t) # [1, 2, 'hi', (2, 3)] [[0, 1, 2], [1, 2, 3]]\n",
    "print(\"hi\" in s) # True\n",
    "print(\"hi\" not in s) # False\n",
    "print(s + t) # [1, 2, 'hi', (2, 3), [0, 1, 2], [1, 2, 3]]\n",
    "print(2 * s) # [1, 2, 'hi', (2, 3), 1, 2, 'hi', (2, 3)]\n",
    "print(s[2]) # hi\n",
    "print(s[1:3]) # [2, 'hi']\n",
    "print(len(s)) # 4\n",
    "print(min(t)) # [0, 1, 2]\n",
    "print(max(t)) # [1, 2, 3]\n",
    "print(s.index(2, 1, 3)) # s从[1,3) 中第一次出现元素2的位置，没有则报错 1\n",
    "print(s.count(12)) # 0"
   ]
  },
  {
   "cell_type": "code",
   "execution_count": 9,
   "metadata": {},
   "outputs": [
    {
     "name": "stdout",
     "output_type": "stream",
     "text": [
      "False\n",
      "2\n",
      "3\n",
      "5\n",
      "1, 5, 0, \n",
      "0 1\n",
      "1 5\n",
      "2 0\n"
     ]
    }
   ],
   "source": [
    "lt = []\n",
    "lt += [1, 2, 3, 4, 5]\n",
    "lt[2] = 6 # [1, 2, 6, 4, 5]\n",
    "lt.insert(2, 7) # [1, 2, 7, 6, 4, 5]\n",
    "del lt[1] # [1, 7, 6, 4, 5]\n",
    "del lt[1:4] # [1, 5]\n",
    "print(0 in lt) # False\n",
    "lt.append(0) # [1, 5, 0]\n",
    "print(lt.index(0)) # 2\n",
    "print(len(lt)) # 3\n",
    "print(max(lt)) # 5\n",
    "\n",
    "for x in lt:\n",
    "    print(x, end=\", \")\n",
    "print() # 指定了end结束符，需要重新指定\n",
    "for i, x in enumerate(lt):\n",
    "    print(i, x)\n",
    "lt.clear() # []\n"
   ]
  },
  {
   "cell_type": "code",
   "execution_count": 10,
   "metadata": {},
   "outputs": [
    {
     "name": "stdout",
     "output_type": "stream",
     "text": [
      "[4, 3, 2, 1, 'xyz', 'abc', 123]\n"
     ]
    }
   ],
   "source": [
    "t = [i for i in range(5)] # [0, 1, 2, 3, 4]\n",
    "t.pop(0) # [1, 2, 3, 4]\n",
    "t.append(3) # [1, 2, 3, 4, 3]\n",
    "t.reverse() # [3, 4, 3, 2, 1]\n",
    "t.remove(3) # 删除第一个3 [4, 3, 2, 1]\n",
    "t.extend([\"xyz\", 'abc', 123]) # 追加一个列表 [4, 3, 2, 1, 'xyz', 'abc', 123]\n",
    "print(t)"
   ]
  }
 ],
 "metadata": {
  "kernelspec": {
   "display_name": "jupyterlab",
   "language": "python",
   "name": "python3"
  },
  "language_info": {
   "codemirror_mode": {
    "name": "ipython",
    "version": 3
   },
   "file_extension": ".py",
   "mimetype": "text/x-python",
   "name": "python",
   "nbconvert_exporter": "python",
   "pygments_lexer": "ipython3",
   "version": "3.8.13"
  },
  "orig_nbformat": 4,
  "vscode": {
   "interpreter": {
    "hash": "680acffb1b7dda0f89f86579d82e4a5b51bf963daab96489c3ef982a7727b824"
   }
  }
 },
 "nbformat": 4,
 "nbformat_minor": 2
}
