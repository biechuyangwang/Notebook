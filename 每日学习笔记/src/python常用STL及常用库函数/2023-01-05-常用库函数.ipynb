{
 "cells": [
  {
   "cell_type": "code",
   "execution_count": 1,
   "metadata": {},
   "outputs": [
    {
     "name": "stdout",
     "output_type": "stream",
     "text": [
      "[1, 2, 3, 5, 6, 9]\n",
      "[(3, 4), (1, 3), (2, 2), (4, 1)]\n",
      "[(4, 1), (3, 4), (2, 2), (1, 3)]\n",
      "---------------------------------------\n",
      "[1, 2, 3, 5, 6, 9]\n",
      "[9, 6, 5, 3, 2, 1]\n",
      "[(3, 4), (1, 3), (2, 2), (4, 1)]\n",
      "---------------------------------------\n",
      "['a', 'b', 'c']\n",
      "[('a', 24), ('b', 12), ('c', 21)]\n",
      "[('a', 24), ('c', 21), ('b', 12)]\n",
      "ABCabc\n"
     ]
    }
   ],
   "source": [
    "# list成员函数sort()\n",
    "arr = [3, 5, 1, 6, 9, 2]\n",
    "arr.sort()  # 作用在arr上\n",
    "print(arr)  # [1, 2, 3, 5, 6, 9]\n",
    "# list成员函数sort() 自定义比较\n",
    "arr = [(2, 2), (3, 4), (4, 1), (1, 3)]\n",
    "def cmp(e):\n",
    "    return e[1]\n",
    "arr.sort(reverse=True, key=cmp)  # 根据第二维降序排列\n",
    "print(arr)\n",
    "arr.sort(key=lambda x: (-x[0], x[1]))  # 第一维降序，第二维升序排列\n",
    "print(arr)\n",
    "\n",
    "# sorted\n",
    "print(\"---------------------------------------\")\n",
    "arr = [3, 5, 1, 6, 9, 2]\n",
    "print(sorted(arr))  # 返回排序(默认升序)后的list\n",
    "print(sorted(arr, reverse=True))  # 返回排序(降序)后的list\n",
    "# sorted 自定义比较\n",
    "arr = [(2, 2), (3, 4), (4, 1), (1, 3)]\n",
    "print(sorted(arr, key=lambda e: -e[1]))  # 根据第二维降序排列\n",
    "\n",
    "# sorted对dict排序\n",
    "print(\"---------------------------------------\")\n",
    "d = {'c': 21, 'a': 24, 'b': 12}\n",
    "print(sorted(d))  # 返回list  ['a', 'b', 'c']\n",
    "print(sorted(d.items()))  # 返回list  [('a', 24), ('b', 21), ('c', 12)]\n",
    "print(sorted(d.items(), key=lambda e: e[1], reverse=True))  # 按照值降序排列\n",
    "\n",
    "# 对字符串进行排序\n",
    "s = \"cbaCBA\"\n",
    "s = \"\".join((lambda x: (x.sort(), x)[1])(list(s)))\n",
    "print(s)  # ABCabc"
   ]
  }
 ],
 "metadata": {
  "kernelspec": {
   "display_name": "jupyterlab",
   "language": "python",
   "name": "python3"
  },
  "language_info": {
   "codemirror_mode": {
    "name": "ipython",
    "version": 3
   },
   "file_extension": ".py",
   "mimetype": "text/x-python",
   "name": "python",
   "nbconvert_exporter": "python",
   "pygments_lexer": "ipython3",
   "version": "3.8.13"
  },
  "orig_nbformat": 4,
  "vscode": {
   "interpreter": {
    "hash": "680acffb1b7dda0f89f86579d82e4a5b51bf963daab96489c3ef982a7727b824"
   }
  }
 },
 "nbformat": 4,
 "nbformat_minor": 2
}
