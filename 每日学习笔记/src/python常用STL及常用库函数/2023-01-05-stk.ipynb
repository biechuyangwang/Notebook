{
 "cells": [
  {
   "cell_type": "code",
   "execution_count": null,
   "metadata": {},
   "outputs": [],
   "source": [
    "# stk使用list模拟\n",
    "stk = []\n",
    "stk.append(20)\n",
    "stk.append(10)\n",
    "stk.append(30)\n",
    "stk.pop(len(stk)-1)\n",
    "stk.clear()\n",
    "print(len(stk))\n",
    "print(len(stk) == 0)"
   ]
  }
 ],
 "metadata": {
  "language_info": {
   "name": "python"
  },
  "orig_nbformat": 4
 },
 "nbformat": 4,
 "nbformat_minor": 2
}
