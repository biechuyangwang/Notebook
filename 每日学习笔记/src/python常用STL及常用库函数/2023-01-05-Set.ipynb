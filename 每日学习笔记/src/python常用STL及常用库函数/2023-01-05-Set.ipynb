{
 "cells": [
  {
   "cell_type": "code",
   "execution_count": 8,
   "metadata": {},
   "outputs": [
    {
     "name": "stdout",
     "output_type": "stream",
     "text": [
      "SortedSet([1, 2, 3, 4, 5])\n",
      "SortedSet([5, 4, 3, 2, 1], key=<built-in function neg>)\n",
      "[1, 2, 3, 4, 5]\n",
      "(1, 2, 3, 4, 5)\n",
      "{1, 2, 3, 4, 5}\n",
      "-10\n",
      "5\n",
      "-10, 2, 4, 5, \n",
      "True\n",
      "2\n",
      "3\n",
      "0\n",
      "True\n"
     ]
    }
   ],
   "source": [
    "# 有序集合：SortedSet\n",
    "# %pip install sortedcontainers\n",
    "from sortedcontainers import SortedSet\n",
    "ss = SortedSet([3, 1, 2, 5, 4]) # 默认升序\n",
    "print(ss)\n",
    "from operator import neg\n",
    "ss1 = SortedSet([3, 1, 2, 5, 4], neg) # 降序\n",
    "print(ss1)\n",
    "\n",
    "print(list(ss))\n",
    "print(tuple(ss))\n",
    "print(set(ss))\n",
    "\n",
    "ss.discard(-1) # 删除不存在的元素不会报错\n",
    "ss.remove(1) # 如果不存在，会报错 [2, 4, 5]\n",
    "ss.discard(3) # [2, 4, 5]\n",
    "ss.add(-10) # [-10, 2, 4, 5]\n",
    "print(ss[0]) # -10\n",
    "print(ss[-1]) # 5\n",
    "for e in ss:\n",
    "    print(e,end=\", \")\n",
    "print()\n",
    "print(2 in ss) # True\n",
    "print(ss.bisect_left(4)) # 返回大于等于4的最小元素对应的下标 2\n",
    "print(ss.bisect_right(4)) # 返回大于4的最小元素对应的下标 3\n",
    "\n",
    "ss.clear()\n",
    "print(len(ss))\n",
    "print(len(ss) == 0)\n"
   ]
  },
  {
   "cell_type": "code",
   "execution_count": 9,
   "metadata": {},
   "outputs": [
    {
     "name": "stdout",
     "output_type": "stream",
     "text": [
      "{3}\n",
      "{1, 2, 3, 4, 5}\n",
      "{1, 2}\n",
      "{1, 2, 4, 5}\n",
      "True\n",
      "False\n",
      "True\n",
      "False\n",
      "3, 4, 5, 6, \n",
      "3\n",
      "{4, 5, 6}\n",
      "3\n",
      "True\n",
      "False\n"
     ]
    }
   ],
   "source": [
    "# 无序集合，不能用list模拟，因为集合是不可变的\n",
    "A = {\"hi\", 2, (\"we\", 24)}\n",
    "B = set()\n",
    "S = {1, 2, 3}\n",
    "T = {3, 4, 5}\n",
    "print(S & T) # {3}\n",
    "print(S | T) # {1, 2, 3, 4, 5}\n",
    "print(S - T) # {1, 2}\n",
    "print(S ^ T) # {1, 2, 4, 5}\n",
    "C = {1, 2}\n",
    "D = {1, 2}\n",
    "print(C <= D) # True\n",
    "print(C < D) # False\n",
    "print(C >= D) # True\n",
    "print(C > D) # False\n",
    "\n",
    "S = {1, 2, 3, 5, 6}\n",
    "S.add(4) # {1, 2, 3, 4, 5, 6}\n",
    "S.discard(1) # {2, 3, 4, 5, 6}\n",
    "S.remove(2) # {3, 4, 5, 6}\n",
    "for e in S:\n",
    "    print(e,end=\", \") # 集合里元素多一点就是无序\n",
    "print()\n",
    "print(S.pop()) # 随机弹出一个元素\n",
    "print(S.copy()) # 返回集合S的一个副本，对副本操作不会影响S {4, 5, 6}\n",
    "print(len(S)) # 3\n",
    "print(5 in S) # True\n",
    "print(5 not in S) # False\n",
    "S.clear() # {}\n"
   ]
  }
 ],
 "metadata": {
  "kernelspec": {
   "display_name": "jupyterlab",
   "language": "python",
   "name": "python3"
  },
  "language_info": {
   "codemirror_mode": {
    "name": "ipython",
    "version": 3
   },
   "file_extension": ".py",
   "mimetype": "text/x-python",
   "name": "python",
   "nbconvert_exporter": "python",
   "pygments_lexer": "ipython3",
   "version": "3.8.13"
  },
  "orig_nbformat": 4,
  "vscode": {
   "interpreter": {
    "hash": "680acffb1b7dda0f89f86579d82e4a5b51bf963daab96489c3ef982a7727b824"
   }
  }
 },
 "nbformat": 4,
 "nbformat_minor": 2
}
