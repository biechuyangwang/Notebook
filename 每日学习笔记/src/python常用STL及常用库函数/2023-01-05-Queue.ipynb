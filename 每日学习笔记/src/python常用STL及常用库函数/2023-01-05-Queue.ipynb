{
 "cells": [
  {
   "cell_type": "code",
   "execution_count": 1,
   "metadata": {},
   "outputs": [
    {
     "name": "stdout",
     "output_type": "stream",
     "text": [
      "3\n",
      "0\n",
      "True\n"
     ]
    }
   ],
   "source": [
    "# 用list模拟队列\n",
    "q = []\n",
    "q.append(4)\n",
    "q.append(3)\n",
    "q.append(7) # [4, 3, 7]\n",
    "q.pop(0) # [3, 7]\n",
    "print(q[0]) # 3\n",
    "q.clear() # []\n",
    "print(len(q)) # 0\n",
    "print(len(q) == 0) # True"
   ]
  },
  {
   "cell_type": "code",
   "execution_count": 7,
   "metadata": {},
   "outputs": [
    {
     "name": "stdout",
     "output_type": "stream",
     "text": [
      "[(1, 'hello'), (2, 'hi'), (3, 'world')]\n",
      "(1, 'hello')\n",
      "(1, 'hello')\n",
      "2\n"
     ]
    }
   ],
   "source": [
    "# priorityQueue:默认小顶堆，基于heapq实现，碰到大顶堆的题，建议换c++或者封装\n",
    "from queue import PriorityQueue\n",
    "heap = PriorityQueue()\n",
    "heap.put((2, 'hi'))\n",
    "heap.put((1, \"hello\"))\n",
    "heap.put((3, \"world\"))\n",
    "print(heap.queue)\n",
    "print(heap.queue[0])\n",
    "print(heap.get())\n",
    "print(heap.qsize())\n",
    "\n",
    "import heapq\n",
    "class MaxHeap(object):\n",
    "    def __init__(self, x):\n",
    "        self.heap = [-e for e in x]\n",
    "        heapq.heapify(self.heap)\n",
    "    def put(self, x):\n",
    "        heapq.heappush(self.heap, -x)\n",
    "    def get(self):\n",
    "        return -heapq.heappop(self.heap)"
   ]
  }
 ],
 "metadata": {
  "kernelspec": {
   "display_name": "jupyterlab",
   "language": "python",
   "name": "python3"
  },
  "language_info": {
   "codemirror_mode": {
    "name": "ipython",
    "version": 3
   },
   "file_extension": ".py",
   "mimetype": "text/x-python",
   "name": "python",
   "nbconvert_exporter": "python",
   "pygments_lexer": "ipython3",
   "version": "3.8.13"
  },
  "orig_nbformat": 4,
  "vscode": {
   "interpreter": {
    "hash": "680acffb1b7dda0f89f86579d82e4a5b51bf963daab96489c3ef982a7727b824"
   }
  }
 },
 "nbformat": 4,
 "nbformat_minor": 2
}
