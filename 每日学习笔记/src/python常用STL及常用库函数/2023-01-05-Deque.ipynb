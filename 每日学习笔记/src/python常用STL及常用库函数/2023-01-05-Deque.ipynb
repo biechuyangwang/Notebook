{
 "cells": [
  {
   "cell_type": "code",
   "execution_count": 1,
   "metadata": {},
   "outputs": [
    {
     "name": "stdout",
     "output_type": "stream",
     "text": [
      "40, 20, \n",
      "40\n",
      "20\n",
      "0\n",
      "True\n"
     ]
    }
   ],
   "source": [
    "from collections import deque\n",
    "d = deque()\n",
    "d.append(20) \n",
    "d.append(10) # [20, 10]\n",
    "d.pop() # 尾部弹出[20]\n",
    "d.appendleft(40) # [40, 20]\n",
    "d.appendleft(30) # [30, 40, 20]\n",
    "d.popleft() # [40, 20]\n",
    "for x in d:\n",
    "    print(x, end=\", \")\n",
    "print()\n",
    "print(d[0]) # 40\n",
    "print(d[len(d)-1]) # 20\n",
    "d.clear() # []\n",
    "print(len(d)) # 0\n",
    "print(len(d)==0) #  True"
   ]
  }
 ],
 "metadata": {
  "kernelspec": {
   "display_name": "jupyterlab",
   "language": "python",
   "name": "python3"
  },
  "language_info": {
   "codemirror_mode": {
    "name": "ipython",
    "version": 3
   },
   "file_extension": ".py",
   "mimetype": "text/x-python",
   "name": "python",
   "nbconvert_exporter": "python",
   "pygments_lexer": "ipython3",
   "version": "3.8.13"
  },
  "orig_nbformat": 4,
  "vscode": {
   "interpreter": {
    "hash": "680acffb1b7dda0f89f86579d82e4a5b51bf963daab96489c3ef982a7727b824"
   }
  }
 },
 "nbformat": 4,
 "nbformat_minor": 2
}
